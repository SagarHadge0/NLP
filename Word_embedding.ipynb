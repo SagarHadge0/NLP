{
 "cells": [
  {
   "cell_type": "code",
   "execution_count": 1,
   "id": "d560a6a2",
   "metadata": {},
   "outputs": [],
   "source": [
    "import numpy as np\n",
    "from tensorflow.keras.layers import Embedding  \n",
    "from tensorflow.keras.preprocessing.sequence import pad_sequences\n",
    "from tensorflow.keras .models import Sequential\n",
    "from tensorflow.keras.preprocessing.text import one_hot"
   ]
  },
  {
   "cell_type": "code",
   "execution_count": 2,
   "id": "2041e58a",
   "metadata": {},
   "outputs": [],
   "source": [
    "sent = ['the cup of tea',\n",
    "       'the cup of juice',\n",
    "       'the glass of milk',\n",
    "       'i am a good boy',\n",
    "       'i am a good devloper',\n",
    "       'understand the meaning of word',\n",
    "       'your bike is very good']"
   ]
  },
  {
   "cell_type": "code",
   "execution_count": 3,
   "id": "f4bad363",
   "metadata": {},
   "outputs": [
    {
     "data": {
      "text/plain": [
       "['the cup of tea',\n",
       " 'the cup of juice',\n",
       " 'the glass of milk',\n",
       " 'i am a good boy',\n",
       " 'i am a good devloper',\n",
       " 'understand the meaning of word',\n",
       " 'your bike is very good']"
      ]
     },
     "execution_count": 3,
     "metadata": {},
     "output_type": "execute_result"
    }
   ],
   "source": [
    "sent"
   ]
  },
  {
   "cell_type": "code",
   "execution_count": 4,
   "id": "34db72d5",
   "metadata": {},
   "outputs": [
    {
     "data": {
      "text/plain": [
       "7"
      ]
     },
     "execution_count": 4,
     "metadata": {},
     "output_type": "execute_result"
    }
   ],
   "source": [
    "len(sent)"
   ]
  },
  {
   "cell_type": "code",
   "execution_count": 5,
   "id": "990789e7",
   "metadata": {},
   "outputs": [],
   "source": [
    "voc_size =10000"
   ]
  },
  {
   "cell_type": "code",
   "execution_count": 6,
   "id": "eaaad7c0",
   "metadata": {},
   "outputs": [],
   "source": [
    "onehot_repr = [one_hot(word,voc_size) for word in sent]"
   ]
  },
  {
   "cell_type": "code",
   "execution_count": 7,
   "id": "11259274",
   "metadata": {},
   "outputs": [
    {
     "data": {
      "text/plain": [
       "[[7317, 3547, 7436, 1096],\n",
       " [7317, 3547, 7436, 5727],\n",
       " [7317, 137, 7436, 6040],\n",
       " [8942, 2228, 7324, 7029, 4521],\n",
       " [8942, 2228, 7324, 7029, 8637],\n",
       " [6962, 7317, 3399, 7436, 5795],\n",
       " [9257, 3554, 445, 1289, 7029]]"
      ]
     },
     "execution_count": 7,
     "metadata": {},
     "output_type": "execute_result"
    }
   ],
   "source": [
    "onehot_repr"
   ]
  },
  {
   "cell_type": "code",
   "execution_count": 8,
   "id": "8ce1d9c3",
   "metadata": {},
   "outputs": [],
   "source": [
    "sent_len = 8"
   ]
  },
  {
   "cell_type": "code",
   "execution_count": 9,
   "id": "544e03c5",
   "metadata": {},
   "outputs": [],
   "source": [
    "embedding_docs = pad_sequences(onehot_repr,padding='pre',maxlen=sent_len)"
   ]
  },
  {
   "cell_type": "code",
   "execution_count": 10,
   "id": "48a0cc80",
   "metadata": {},
   "outputs": [
    {
     "data": {
      "text/plain": [
       "array([[   0,    0,    0,    0, 7317, 3547, 7436, 1096],\n",
       "       [   0,    0,    0,    0, 7317, 3547, 7436, 5727],\n",
       "       [   0,    0,    0,    0, 7317,  137, 7436, 6040],\n",
       "       [   0,    0,    0, 8942, 2228, 7324, 7029, 4521],\n",
       "       [   0,    0,    0, 8942, 2228, 7324, 7029, 8637],\n",
       "       [   0,    0,    0, 6962, 7317, 3399, 7436, 5795],\n",
       "       [   0,    0,    0, 9257, 3554,  445, 1289, 7029]])"
      ]
     },
     "execution_count": 10,
     "metadata": {},
     "output_type": "execute_result"
    }
   ],
   "source": [
    "embedding_docs"
   ]
  },
  {
   "cell_type": "code",
   "execution_count": 11,
   "id": "57fd61ff",
   "metadata": {},
   "outputs": [
    {
     "name": "stderr",
     "output_type": "stream",
     "text": [
      "C:\\Users\\sagar\\AppData\\Roaming\\Python\\Python311\\site-packages\\keras\\src\\layers\\core\\embedding.py:90: UserWarning: Argument `input_length` is deprecated. Just remove it.\n",
      "  warnings.warn(\n"
     ]
    }
   ],
   "source": [
    "model = Sequential()\n",
    "model.add(Embedding(voc_size,10,input_length=sent_len))"
   ]
  },
  {
   "cell_type": "code",
   "execution_count": 12,
   "id": "2a56f7c1",
   "metadata": {},
   "outputs": [
    {
     "data": {
      "text/html": [
       "<pre style=\"white-space:pre;overflow-x:auto;line-height:normal;font-family:Menlo,'DejaVu Sans Mono',consolas,'Courier New',monospace\"><span style=\"font-weight: bold\">Model: \"sequential\"</span>\n",
       "</pre>\n"
      ],
      "text/plain": [
       "\u001b[1mModel: \"sequential\"\u001b[0m\n"
      ]
     },
     "metadata": {},
     "output_type": "display_data"
    },
    {
     "data": {
      "text/html": [
       "<pre style=\"white-space:pre;overflow-x:auto;line-height:normal;font-family:Menlo,'DejaVu Sans Mono',consolas,'Courier New',monospace\">┏━━━━━━━━━━━━━━━━━━━━━━━━━━━━━━━━━┳━━━━━━━━━━━━━━━━━━━━━━━━┳━━━━━━━━━━━━━━━┓\n",
       "┃<span style=\"font-weight: bold\"> Layer (type)                    </span>┃<span style=\"font-weight: bold\"> Output Shape           </span>┃<span style=\"font-weight: bold\">       Param # </span>┃\n",
       "┡━━━━━━━━━━━━━━━━━━━━━━━━━━━━━━━━━╇━━━━━━━━━━━━━━━━━━━━━━━━╇━━━━━━━━━━━━━━━┩\n",
       "│ embedding (<span style=\"color: #0087ff; text-decoration-color: #0087ff\">Embedding</span>)           │ ?                      │   <span style=\"color: #00af00; text-decoration-color: #00af00\">0</span> (unbuilt) │\n",
       "└─────────────────────────────────┴────────────────────────┴───────────────┘\n",
       "</pre>\n"
      ],
      "text/plain": [
       "┏━━━━━━━━━━━━━━━━━━━━━━━━━━━━━━━━━┳━━━━━━━━━━━━━━━━━━━━━━━━┳━━━━━━━━━━━━━━━┓\n",
       "┃\u001b[1m \u001b[0m\u001b[1mLayer (type)                   \u001b[0m\u001b[1m \u001b[0m┃\u001b[1m \u001b[0m\u001b[1mOutput Shape          \u001b[0m\u001b[1m \u001b[0m┃\u001b[1m \u001b[0m\u001b[1m      Param #\u001b[0m\u001b[1m \u001b[0m┃\n",
       "┡━━━━━━━━━━━━━━━━━━━━━━━━━━━━━━━━━╇━━━━━━━━━━━━━━━━━━━━━━━━╇━━━━━━━━━━━━━━━┩\n",
       "│ embedding (\u001b[38;5;33mEmbedding\u001b[0m)           │ ?                      │   \u001b[38;5;34m0\u001b[0m (unbuilt) │\n",
       "└─────────────────────────────────┴────────────────────────┴───────────────┘\n"
      ]
     },
     "metadata": {},
     "output_type": "display_data"
    },
    {
     "data": {
      "text/html": [
       "<pre style=\"white-space:pre;overflow-x:auto;line-height:normal;font-family:Menlo,'DejaVu Sans Mono',consolas,'Courier New',monospace\"><span style=\"font-weight: bold\"> Total params: </span><span style=\"color: #00af00; text-decoration-color: #00af00\">0</span> (0.00 B)\n",
       "</pre>\n"
      ],
      "text/plain": [
       "\u001b[1m Total params: \u001b[0m\u001b[38;5;34m0\u001b[0m (0.00 B)\n"
      ]
     },
     "metadata": {},
     "output_type": "display_data"
    },
    {
     "data": {
      "text/html": [
       "<pre style=\"white-space:pre;overflow-x:auto;line-height:normal;font-family:Menlo,'DejaVu Sans Mono',consolas,'Courier New',monospace\"><span style=\"font-weight: bold\"> Trainable params: </span><span style=\"color: #00af00; text-decoration-color: #00af00\">0</span> (0.00 B)\n",
       "</pre>\n"
      ],
      "text/plain": [
       "\u001b[1m Trainable params: \u001b[0m\u001b[38;5;34m0\u001b[0m (0.00 B)\n"
      ]
     },
     "metadata": {},
     "output_type": "display_data"
    },
    {
     "data": {
      "text/html": [
       "<pre style=\"white-space:pre;overflow-x:auto;line-height:normal;font-family:Menlo,'DejaVu Sans Mono',consolas,'Courier New',monospace\"><span style=\"font-weight: bold\"> Non-trainable params: </span><span style=\"color: #00af00; text-decoration-color: #00af00\">0</span> (0.00 B)\n",
       "</pre>\n"
      ],
      "text/plain": [
       "\u001b[1m Non-trainable params: \u001b[0m\u001b[38;5;34m0\u001b[0m (0.00 B)\n"
      ]
     },
     "metadata": {},
     "output_type": "display_data"
    }
   ],
   "source": [
    "model.summary()"
   ]
  },
  {
   "cell_type": "code",
   "execution_count": 13,
   "id": "dfe94572",
   "metadata": {},
   "outputs": [],
   "source": [
    "model.compile(optimizer='adam',loss='mse')"
   ]
  },
  {
   "cell_type": "code",
   "execution_count": 14,
   "id": "d4da1f36",
   "metadata": {},
   "outputs": [
    {
     "name": "stdout",
     "output_type": "stream",
     "text": [
      "\u001b[1m1/1\u001b[0m \u001b[32m━━━━━━━━━━━━━━━━━━━━\u001b[0m\u001b[37m\u001b[0m \u001b[1m0s\u001b[0m 78ms/step\n"
     ]
    }
   ],
   "source": [
    "test = model.predict(embedding_docs)"
   ]
  },
  {
   "cell_type": "code",
   "execution_count": 15,
   "id": "97864381",
   "metadata": {},
   "outputs": [
    {
     "data": {
      "text/plain": [
       "array([[[-0.04529265, -0.01268759, -0.00731888,  0.01076219,\n",
       "         -0.00201634,  0.04827659, -0.04536337,  0.01058992,\n",
       "         -0.01725364, -0.00282545],\n",
       "        [-0.04529265, -0.01268759, -0.00731888,  0.01076219,\n",
       "         -0.00201634,  0.04827659, -0.04536337,  0.01058992,\n",
       "         -0.01725364, -0.00282545],\n",
       "        [-0.04529265, -0.01268759, -0.00731888,  0.01076219,\n",
       "         -0.00201634,  0.04827659, -0.04536337,  0.01058992,\n",
       "         -0.01725364, -0.00282545],\n",
       "        [-0.04529265, -0.01268759, -0.00731888,  0.01076219,\n",
       "         -0.00201634,  0.04827659, -0.04536337,  0.01058992,\n",
       "         -0.01725364, -0.00282545],\n",
       "        [-0.02961477, -0.02482997, -0.0489924 ,  0.0372952 ,\n",
       "          0.03331906, -0.01288215, -0.0349761 ,  0.00482801,\n",
       "          0.03701402,  0.03095725],\n",
       "        [-0.03995013,  0.03892614, -0.04215498, -0.0284381 ,\n",
       "          0.03856515,  0.00543343,  0.01485821,  0.01005984,\n",
       "          0.02497097,  0.0076347 ],\n",
       "        [ 0.00039332,  0.02101416, -0.00550764,  0.02587955,\n",
       "         -0.02191528,  0.00227662, -0.00550603, -0.0076143 ,\n",
       "         -0.024843  , -0.04668218],\n",
       "        [-0.03236818, -0.04375018,  0.01415625,  0.02717919,\n",
       "         -0.01253867, -0.01762528, -0.00913513, -0.01750035,\n",
       "          0.03423066, -0.02820549]],\n",
       "\n",
       "       [[-0.04529265, -0.01268759, -0.00731888,  0.01076219,\n",
       "         -0.00201634,  0.04827659, -0.04536337,  0.01058992,\n",
       "         -0.01725364, -0.00282545],\n",
       "        [-0.04529265, -0.01268759, -0.00731888,  0.01076219,\n",
       "         -0.00201634,  0.04827659, -0.04536337,  0.01058992,\n",
       "         -0.01725364, -0.00282545],\n",
       "        [-0.04529265, -0.01268759, -0.00731888,  0.01076219,\n",
       "         -0.00201634,  0.04827659, -0.04536337,  0.01058992,\n",
       "         -0.01725364, -0.00282545],\n",
       "        [-0.04529265, -0.01268759, -0.00731888,  0.01076219,\n",
       "         -0.00201634,  0.04827659, -0.04536337,  0.01058992,\n",
       "         -0.01725364, -0.00282545],\n",
       "        [-0.02961477, -0.02482997, -0.0489924 ,  0.0372952 ,\n",
       "          0.03331906, -0.01288215, -0.0349761 ,  0.00482801,\n",
       "          0.03701402,  0.03095725],\n",
       "        [-0.03995013,  0.03892614, -0.04215498, -0.0284381 ,\n",
       "          0.03856515,  0.00543343,  0.01485821,  0.01005984,\n",
       "          0.02497097,  0.0076347 ],\n",
       "        [ 0.00039332,  0.02101416, -0.00550764,  0.02587955,\n",
       "         -0.02191528,  0.00227662, -0.00550603, -0.0076143 ,\n",
       "         -0.024843  , -0.04668218],\n",
       "        [-0.01743388,  0.00536183, -0.00177968,  0.01803208,\n",
       "          0.03889555, -0.01005097,  0.00244706,  0.04698272,\n",
       "          0.00035006,  0.01219503]],\n",
       "\n",
       "       [[-0.04529265, -0.01268759, -0.00731888,  0.01076219,\n",
       "         -0.00201634,  0.04827659, -0.04536337,  0.01058992,\n",
       "         -0.01725364, -0.00282545],\n",
       "        [-0.04529265, -0.01268759, -0.00731888,  0.01076219,\n",
       "         -0.00201634,  0.04827659, -0.04536337,  0.01058992,\n",
       "         -0.01725364, -0.00282545],\n",
       "        [-0.04529265, -0.01268759, -0.00731888,  0.01076219,\n",
       "         -0.00201634,  0.04827659, -0.04536337,  0.01058992,\n",
       "         -0.01725364, -0.00282545],\n",
       "        [-0.04529265, -0.01268759, -0.00731888,  0.01076219,\n",
       "         -0.00201634,  0.04827659, -0.04536337,  0.01058992,\n",
       "         -0.01725364, -0.00282545],\n",
       "        [-0.02961477, -0.02482997, -0.0489924 ,  0.0372952 ,\n",
       "          0.03331906, -0.01288215, -0.0349761 ,  0.00482801,\n",
       "          0.03701402,  0.03095725],\n",
       "        [ 0.03187951,  0.02790726,  0.03895317, -0.01883671,\n",
       "         -0.00690116,  0.00745132, -0.01336665,  0.00613612,\n",
       "          0.03884908, -0.03086139],\n",
       "        [ 0.00039332,  0.02101416, -0.00550764,  0.02587955,\n",
       "         -0.02191528,  0.00227662, -0.00550603, -0.0076143 ,\n",
       "         -0.024843  , -0.04668218],\n",
       "        [ 0.02111873, -0.01139664,  0.02475641, -0.0383482 ,\n",
       "         -0.01760287, -0.03324725, -0.02228762, -0.03400926,\n",
       "          0.0318882 , -0.01521413]],\n",
       "\n",
       "       [[-0.04529265, -0.01268759, -0.00731888,  0.01076219,\n",
       "         -0.00201634,  0.04827659, -0.04536337,  0.01058992,\n",
       "         -0.01725364, -0.00282545],\n",
       "        [-0.04529265, -0.01268759, -0.00731888,  0.01076219,\n",
       "         -0.00201634,  0.04827659, -0.04536337,  0.01058992,\n",
       "         -0.01725364, -0.00282545],\n",
       "        [-0.04529265, -0.01268759, -0.00731888,  0.01076219,\n",
       "         -0.00201634,  0.04827659, -0.04536337,  0.01058992,\n",
       "         -0.01725364, -0.00282545],\n",
       "        [ 0.00543078, -0.02900988,  0.02303338,  0.01335091,\n",
       "         -0.03474576,  0.03279592,  0.00126112, -0.01449401,\n",
       "         -0.04802669, -0.03464254],\n",
       "        [ 0.0192654 ,  0.0129394 , -0.04826344,  0.00805403,\n",
       "         -0.03642517, -0.03128277, -0.04530871,  0.04701742,\n",
       "          0.02842804, -0.02117889],\n",
       "        [ 0.0396441 , -0.03744079, -0.0213946 , -0.03375707,\n",
       "          0.04220644, -0.01029068,  0.00863783,  0.04869265,\n",
       "         -0.03653796,  0.04475626],\n",
       "        [ 0.01251772,  0.03516035, -0.02571913, -0.02037436,\n",
       "          0.0353877 , -0.03753193, -0.03916217,  0.03880687,\n",
       "         -0.00403209, -0.00402863],\n",
       "        [ 0.01191426,  0.00188997,  0.02568292, -0.01497929,\n",
       "          0.03796155,  0.01895959,  0.00102856, -0.02087708,\n",
       "          0.02555953,  0.03686731]],\n",
       "\n",
       "       [[-0.04529265, -0.01268759, -0.00731888,  0.01076219,\n",
       "         -0.00201634,  0.04827659, -0.04536337,  0.01058992,\n",
       "         -0.01725364, -0.00282545],\n",
       "        [-0.04529265, -0.01268759, -0.00731888,  0.01076219,\n",
       "         -0.00201634,  0.04827659, -0.04536337,  0.01058992,\n",
       "         -0.01725364, -0.00282545],\n",
       "        [-0.04529265, -0.01268759, -0.00731888,  0.01076219,\n",
       "         -0.00201634,  0.04827659, -0.04536337,  0.01058992,\n",
       "         -0.01725364, -0.00282545],\n",
       "        [ 0.00543078, -0.02900988,  0.02303338,  0.01335091,\n",
       "         -0.03474576,  0.03279592,  0.00126112, -0.01449401,\n",
       "         -0.04802669, -0.03464254],\n",
       "        [ 0.0192654 ,  0.0129394 , -0.04826344,  0.00805403,\n",
       "         -0.03642517, -0.03128277, -0.04530871,  0.04701742,\n",
       "          0.02842804, -0.02117889],\n",
       "        [ 0.0396441 , -0.03744079, -0.0213946 , -0.03375707,\n",
       "          0.04220644, -0.01029068,  0.00863783,  0.04869265,\n",
       "         -0.03653796,  0.04475626],\n",
       "        [ 0.01251772,  0.03516035, -0.02571913, -0.02037436,\n",
       "          0.0353877 , -0.03753193, -0.03916217,  0.03880687,\n",
       "         -0.00403209, -0.00402863],\n",
       "        [-0.03308308, -0.00160923, -0.04096187, -0.03655906,\n",
       "          0.04775547,  0.00867669,  0.04813964,  0.02358631,\n",
       "         -0.0005632 , -0.0028367 ]],\n",
       "\n",
       "       [[-0.04529265, -0.01268759, -0.00731888,  0.01076219,\n",
       "         -0.00201634,  0.04827659, -0.04536337,  0.01058992,\n",
       "         -0.01725364, -0.00282545],\n",
       "        [-0.04529265, -0.01268759, -0.00731888,  0.01076219,\n",
       "         -0.00201634,  0.04827659, -0.04536337,  0.01058992,\n",
       "         -0.01725364, -0.00282545],\n",
       "        [-0.04529265, -0.01268759, -0.00731888,  0.01076219,\n",
       "         -0.00201634,  0.04827659, -0.04536337,  0.01058992,\n",
       "         -0.01725364, -0.00282545],\n",
       "        [ 0.02630153, -0.04804058, -0.00937209, -0.02157739,\n",
       "          0.04741522, -0.03229818, -0.03336685,  0.00532769,\n",
       "         -0.01999741, -0.03095173],\n",
       "        [-0.02961477, -0.02482997, -0.0489924 ,  0.0372952 ,\n",
       "          0.03331906, -0.01288215, -0.0349761 ,  0.00482801,\n",
       "          0.03701402,  0.03095725],\n",
       "        [-0.03128745,  0.00261246, -0.02187133,  0.02978765,\n",
       "          0.00119049,  0.04826075, -0.00545438, -0.03265885,\n",
       "         -0.04452751,  0.02118938],\n",
       "        [ 0.00039332,  0.02101416, -0.00550764,  0.02587955,\n",
       "         -0.02191528,  0.00227662, -0.00550603, -0.0076143 ,\n",
       "         -0.024843  , -0.04668218],\n",
       "        [ 0.03387563,  0.01950711, -0.04041624,  0.0395154 ,\n",
       "         -0.04139379,  0.00452847,  0.0415228 , -0.04731689,\n",
       "          0.00242192, -0.03171291]],\n",
       "\n",
       "       [[-0.04529265, -0.01268759, -0.00731888,  0.01076219,\n",
       "         -0.00201634,  0.04827659, -0.04536337,  0.01058992,\n",
       "         -0.01725364, -0.00282545],\n",
       "        [-0.04529265, -0.01268759, -0.00731888,  0.01076219,\n",
       "         -0.00201634,  0.04827659, -0.04536337,  0.01058992,\n",
       "         -0.01725364, -0.00282545],\n",
       "        [-0.04529265, -0.01268759, -0.00731888,  0.01076219,\n",
       "         -0.00201634,  0.04827659, -0.04536337,  0.01058992,\n",
       "         -0.01725364, -0.00282545],\n",
       "        [ 0.04305786,  0.03987804,  0.00881153, -0.01094689,\n",
       "         -0.0313838 ,  0.00640974, -0.03557277,  0.03342189,\n",
       "          0.00457103, -0.03305199],\n",
       "        [ 0.02429186, -0.02706274,  0.01208334,  0.00893146,\n",
       "          0.01169776,  0.00794239,  0.04375193, -0.0064447 ,\n",
       "         -0.02633551, -0.02725426],\n",
       "        [ 0.01213616, -0.0074069 ,  0.01346487, -0.00885137,\n",
       "          0.04765036, -0.02960908,  0.02700526, -0.03182887,\n",
       "         -0.00667273,  0.0017679 ],\n",
       "        [ 0.02151188,  0.02621311,  0.00436472, -0.0030822 ,\n",
       "         -0.00758334,  0.01418832,  0.03937158,  0.03858227,\n",
       "          0.03876305,  0.04598062],\n",
       "        [ 0.01251772,  0.03516035, -0.02571913, -0.02037436,\n",
       "          0.0353877 , -0.03753193, -0.03916217,  0.03880687,\n",
       "         -0.00403209, -0.00402863]]], dtype=float32)"
      ]
     },
     "execution_count": 15,
     "metadata": {},
     "output_type": "execute_result"
    }
   ],
   "source": [
    "test"
   ]
  },
  {
   "cell_type": "markdown",
   "id": "1bf97773",
   "metadata": {},
   "source": [
    "# Word2vec"
   ]
  },
  {
   "cell_type": "code",
   "execution_count": 16,
   "id": "4648c3a9",
   "metadata": {},
   "outputs": [],
   "source": [
    "text = \"\"\"The climate has continuously changing for centuries. The global warming happens because the natural rotation of the sun that changes the intensity of sunlight and moving closer to the earth. Another cause of global warming is greenhouse gases. Greenhouse gases are carbon monoxide and sulphur dioxide it trap the solar heats rays and prevent it from escaping from the surface of the earth. This has cause the temperature of the earth increase. Volcanic eruptions are another issue that causes global warming. For instance, a single volcanic eruption will release amount of carbon dioxide and ash to the atmosphere. Once carbon dioxide increase, the temperature of earth increase and greenhouse trap the solar radiations in the earth. Finally, methane is another issue that causes global warming. Methane is also a greenhouse gas. Methane is more effective in trapping heat in the atmosphere that carbon dioxide by 20 times. Usually methane gas can release from many areas. For instance, it can be from cattle, landfill, natural gas, petroleum systems, coal mining, mobile explosion, or industrial waste process.\"\"\"\n"
   ]
  },
  {
   "cell_type": "code",
   "execution_count": 17,
   "id": "865cd07f",
   "metadata": {},
   "outputs": [
    {
     "data": {
      "text/plain": [
       "'The climate has continuously changing for centuries. The global warming happens because the natural rotation of the sun that changes the intensity of sunlight and moving closer to the earth. Another cause of global warming is greenhouse gases. Greenhouse gases are carbon monoxide and sulphur dioxide it trap the solar heats rays and prevent it from escaping from the surface of the earth. This has cause the temperature of the earth increase. Volcanic eruptions are another issue that causes global warming. For instance, a single volcanic eruption will release amount of carbon dioxide and ash to the atmosphere. Once carbon dioxide increase, the temperature of earth increase and greenhouse trap the solar radiations in the earth. Finally, methane is another issue that causes global warming. Methane is also a greenhouse gas. Methane is more effective in trapping heat in the atmosphere that carbon dioxide by 20 times. Usually methane gas can release from many areas. For instance, it can be from cattle, landfill, natural gas, petroleum systems, coal mining, mobile explosion, or industrial waste process.'"
      ]
     },
     "execution_count": 17,
     "metadata": {},
     "output_type": "execute_result"
    }
   ],
   "source": [
    "\n",
    "text\n"
   ]
  },
  {
   "cell_type": "code",
   "execution_count": 18,
   "id": "81d7cad0",
   "metadata": {},
   "outputs": [],
   "source": [
    "import  nltk"
   ]
  },
  {
   "cell_type": "markdown",
   "id": "f3036bc5",
   "metadata": {},
   "source": [
    "# Gensim is a free open-source Python library for representing documents as semantic vectors,"
   ]
  },
  {
   "cell_type": "markdown",
   "id": "437923d9",
   "metadata": {},
   "source": [
    "# as efficiently (computer-wise) and painlessly (human-wise) as possible."
   ]
  },
  {
   "cell_type": "markdown",
   "id": "04eea265",
   "metadata": {},
   "source": [
    "# Gensim is designed to process raw, unstructured digital texts (“plain text”) using unsupervised machine learning algorithms."
   ]
  },
  {
   "cell_type": "code",
   "execution_count": 19,
   "id": "8c153d7a",
   "metadata": {
    "scrolled": false
   },
   "outputs": [
    {
     "name": "stdout",
     "output_type": "stream",
     "text": [
      "Defaulting to user installation because normal site-packages is not writeable\n",
      "Requirement already satisfied: gensim in c:\\programdata\\anaconda3\\lib\\site-packages (4.3.0)\n",
      "Requirement already satisfied: numpy>=1.18.5 in c:\\users\\sagar\\appdata\\roaming\\python\\python311\\site-packages (from gensim) (1.24.4)\n",
      "Requirement already satisfied: scipy>=1.7.0 in c:\\users\\sagar\\appdata\\roaming\\python\\python311\\site-packages (from gensim) (1.10.1)\n",
      "Requirement already satisfied: smart-open>=1.8.1 in c:\\programdata\\anaconda3\\lib\\site-packages (from gensim) (5.2.1)\n",
      "Requirement already satisfied: FuzzyTM>=0.4.0 in c:\\users\\sagar\\appdata\\roaming\\python\\python311\\site-packages (from gensim) (2.0.9)\n",
      "Requirement already satisfied: pandas in c:\\users\\sagar\\appdata\\roaming\\python\\python311\\site-packages (from FuzzyTM>=0.4.0->gensim) (1.5.3)\n",
      "Requirement already satisfied: pyfume in c:\\users\\sagar\\appdata\\roaming\\python\\python311\\site-packages (from FuzzyTM>=0.4.0->gensim) (0.3.4)\n",
      "Requirement already satisfied: python-dateutil>=2.8.1 in c:\\programdata\\anaconda3\\lib\\site-packages (from pandas->FuzzyTM>=0.4.0->gensim) (2.8.2)\n",
      "Requirement already satisfied: pytz>=2020.1 in c:\\programdata\\anaconda3\\lib\\site-packages (from pandas->FuzzyTM>=0.4.0->gensim) (2023.3.post1)\n",
      "Requirement already satisfied: simpful==2.12.0 in c:\\users\\sagar\\appdata\\roaming\\python\\python311\\site-packages (from pyfume->FuzzyTM>=0.4.0->gensim) (2.12.0)\n",
      "Requirement already satisfied: fst-pso==1.8.1 in c:\\users\\sagar\\appdata\\roaming\\python\\python311\\site-packages (from pyfume->FuzzyTM>=0.4.0->gensim) (1.8.1)\n",
      "Requirement already satisfied: miniful in c:\\users\\sagar\\appdata\\roaming\\python\\python311\\site-packages (from fst-pso==1.8.1->pyfume->FuzzyTM>=0.4.0->gensim) (0.0.6)\n",
      "Requirement already satisfied: six>=1.5 in c:\\programdata\\anaconda3\\lib\\site-packages (from python-dateutil>=2.8.1->pandas->FuzzyTM>=0.4.0->gensim) (1.16.0)\n"
     ]
    }
   ],
   "source": [
    "#!pip install gensim"
   ]
  },
  {
   "cell_type": "code",
   "execution_count": 20,
   "id": "e55d1735",
   "metadata": {},
   "outputs": [],
   "source": [
    "from gensim.models import Word2Vec\n",
    "from nltk.corpus import stopwords\n",
    "import re"
   ]
  },
  {
   "cell_type": "code",
   "execution_count": 21,
   "id": "757d5b25",
   "metadata": {},
   "outputs": [
    {
     "name": "stdout",
     "output_type": "stream",
     "text": [
      "Defaulting to user installation because normal site-packages is not writeable\n",
      "Requirement already satisfied: pip in c:\\users\\sagar\\appdata\\roaming\\python\\python311\\site-packages (24.1.1)\n",
      "Requirement already satisfied: setuptools in c:\\users\\sagar\\appdata\\roaming\\python\\python311\\site-packages (70.1.1)\n",
      "Note: you may need to restart the kernel to use updated packages.\n"
     ]
    }
   ],
   "source": [
    "#pip install --upgrade pip setuptools"
   ]
  },
  {
   "cell_type": "code",
   "execution_count": 22,
   "id": "f0a84728",
   "metadata": {},
   "outputs": [
    {
     "name": "stdout",
     "output_type": "stream",
     "text": [
      "Defaulting to user installation because normal site-packages is not writeable\n",
      "Requirement already satisfied: gensim in c:\\programdata\\anaconda3\\lib\\site-packages (4.3.0)\n",
      "Requirement already satisfied: numpy>=1.18.5 in c:\\users\\sagar\\appdata\\roaming\\python\\python311\\site-packages (from gensim) (1.24.4)\n",
      "Requirement already satisfied: scipy>=1.7.0 in c:\\users\\sagar\\appdata\\roaming\\python\\python311\\site-packages (from gensim) (1.10.1)\n",
      "Requirement already satisfied: smart-open>=1.8.1 in c:\\programdata\\anaconda3\\lib\\site-packages (from gensim) (5.2.1)\n",
      "Requirement already satisfied: FuzzyTM>=0.4.0 in c:\\users\\sagar\\appdata\\roaming\\python\\python311\\site-packages (from gensim) (2.0.9)\n",
      "Requirement already satisfied: pandas in c:\\users\\sagar\\appdata\\roaming\\python\\python311\\site-packages (from FuzzyTM>=0.4.0->gensim) (1.5.3)\n",
      "Requirement already satisfied: pyfume in c:\\users\\sagar\\appdata\\roaming\\python\\python311\\site-packages (from FuzzyTM>=0.4.0->gensim) (0.3.4)\n",
      "Requirement already satisfied: python-dateutil>=2.8.1 in c:\\programdata\\anaconda3\\lib\\site-packages (from pandas->FuzzyTM>=0.4.0->gensim) (2.8.2)\n",
      "Requirement already satisfied: pytz>=2020.1 in c:\\programdata\\anaconda3\\lib\\site-packages (from pandas->FuzzyTM>=0.4.0->gensim) (2023.3.post1)\n",
      "Requirement already satisfied: simpful==2.12.0 in c:\\users\\sagar\\appdata\\roaming\\python\\python311\\site-packages (from pyfume->FuzzyTM>=0.4.0->gensim) (2.12.0)\n",
      "Requirement already satisfied: fst-pso==1.8.1 in c:\\users\\sagar\\appdata\\roaming\\python\\python311\\site-packages (from pyfume->FuzzyTM>=0.4.0->gensim) (1.8.1)\n",
      "Requirement already satisfied: miniful in c:\\users\\sagar\\appdata\\roaming\\python\\python311\\site-packages (from fst-pso==1.8.1->pyfume->FuzzyTM>=0.4.0->gensim) (0.0.6)\n",
      "Requirement already satisfied: six>=1.5 in c:\\programdata\\anaconda3\\lib\\site-packages (from python-dateutil>=2.8.1->pandas->FuzzyTM>=0.4.0->gensim) (1.16.0)\n"
     ]
    }
   ],
   "source": [
    "#!pip install gensim"
   ]
  },
  {
   "cell_type": "code",
   "execution_count": 23,
   "id": "3c731842",
   "metadata": {},
   "outputs": [],
   "source": [
    "para = re.sub(r'\\d','',text)\n",
    "para = re.sub(r\"\\s+\",\" \",para)\n",
    "para = para.lower()\n",
    "para = re.sub(r'\\s+',\" \",para)"
   ]
  },
  {
   "cell_type": "code",
   "execution_count": 24,
   "id": "b6a00c26",
   "metadata": {},
   "outputs": [
    {
     "data": {
      "text/plain": [
       "'the climate has continuously changing for centuries. the global warming happens because the natural rotation of the sun that changes the intensity of sunlight and moving closer to the earth. another cause of global warming is greenhouse gases. greenhouse gases are carbon monoxide and sulphur dioxide it trap the solar heats rays and prevent it from escaping from the surface of the earth. this has cause the temperature of the earth increase. volcanic eruptions are another issue that causes global warming. for instance, a single volcanic eruption will release amount of carbon dioxide and ash to the atmosphere. once carbon dioxide increase, the temperature of earth increase and greenhouse trap the solar radiations in the earth. finally, methane is another issue that causes global warming. methane is also a greenhouse gas. methane is more effective in trapping heat in the atmosphere that carbon dioxide by times. usually methane gas can release from many areas. for instance, it can be from cattle, landfill, natural gas, petroleum systems, coal mining, mobile explosion, or industrial waste process.'"
      ]
     },
     "execution_count": 24,
     "metadata": {},
     "output_type": "execute_result"
    }
   ],
   "source": [
    "para"
   ]
  },
  {
   "cell_type": "code",
   "execution_count": 25,
   "id": "f5f42acb",
   "metadata": {},
   "outputs": [
    {
     "name": "stdout",
     "output_type": "stream",
     "text": [
      "showing info https://raw.githubusercontent.com/nltk/nltk_data/gh-pages/index.xml\n"
     ]
    },
    {
     "data": {
      "text/plain": [
       "True"
      ]
     },
     "execution_count": 25,
     "metadata": {},
     "output_type": "execute_result"
    }
   ],
   "source": [
    "#nltk.download()"
   ]
  },
  {
   "cell_type": "code",
   "execution_count": 27,
   "id": "74e6efe7",
   "metadata": {},
   "outputs": [],
   "source": [
    "sentences = nltk.sent_tokenize(para)"
   ]
  },
  {
   "cell_type": "code",
   "execution_count": 28,
   "id": "74b3637f",
   "metadata": {},
   "outputs": [
    {
     "data": {
      "text/plain": [
       "['the climate has continuously changing for centuries.',\n",
       " 'the global warming happens because the natural rotation of the sun that changes the intensity of sunlight and moving closer to the earth.',\n",
       " 'another cause of global warming is greenhouse gases.',\n",
       " 'greenhouse gases are carbon monoxide and sulphur dioxide it trap the solar heats rays and prevent it from escaping from the surface of the earth.',\n",
       " 'this has cause the temperature of the earth increase.',\n",
       " 'volcanic eruptions are another issue that causes global warming.',\n",
       " 'for instance, a single volcanic eruption will release amount of carbon dioxide and ash to the atmosphere.',\n",
       " 'once carbon dioxide increase, the temperature of earth increase and greenhouse trap the solar radiations in the earth.',\n",
       " 'finally, methane is another issue that causes global warming.',\n",
       " 'methane is also a greenhouse gas.',\n",
       " 'methane is more effective in trapping heat in the atmosphere that carbon dioxide by times.',\n",
       " 'usually methane gas can release from many areas.',\n",
       " 'for instance, it can be from cattle, landfill, natural gas, petroleum systems, coal mining, mobile explosion, or industrial waste process.']"
      ]
     },
     "execution_count": 28,
     "metadata": {},
     "output_type": "execute_result"
    }
   ],
   "source": [
    "sentences"
   ]
  },
  {
   "cell_type": "code",
   "execution_count": 29,
   "id": "577c7e01",
   "metadata": {},
   "outputs": [
    {
     "data": {
      "text/plain": [
       "13"
      ]
     },
     "execution_count": 29,
     "metadata": {},
     "output_type": "execute_result"
    }
   ],
   "source": [
    "len(sentences)"
   ]
  },
  {
   "cell_type": "code",
   "execution_count": 31,
   "id": "8d444cfe",
   "metadata": {},
   "outputs": [],
   "source": [
    "sentences = [nltk.word_tokenize(sentence) for sentence in sentences]"
   ]
  },
  {
   "cell_type": "code",
   "execution_count": 33,
   "id": "ecff41c3",
   "metadata": {},
   "outputs": [
    {
     "data": {
      "text/plain": [
       "[['the',\n",
       "  'climate',\n",
       "  'has',\n",
       "  'continuously',\n",
       "  'changing',\n",
       "  'for',\n",
       "  'centuries',\n",
       "  '.'],\n",
       " ['the',\n",
       "  'global',\n",
       "  'warming',\n",
       "  'happens',\n",
       "  'because',\n",
       "  'the',\n",
       "  'natural',\n",
       "  'rotation',\n",
       "  'of',\n",
       "  'the',\n",
       "  'sun',\n",
       "  'that',\n",
       "  'changes',\n",
       "  'the',\n",
       "  'intensity',\n",
       "  'of',\n",
       "  'sunlight',\n",
       "  'and',\n",
       "  'moving',\n",
       "  'closer',\n",
       "  'to',\n",
       "  'the',\n",
       "  'earth',\n",
       "  '.'],\n",
       " ['another',\n",
       "  'cause',\n",
       "  'of',\n",
       "  'global',\n",
       "  'warming',\n",
       "  'is',\n",
       "  'greenhouse',\n",
       "  'gases',\n",
       "  '.'],\n",
       " ['greenhouse',\n",
       "  'gases',\n",
       "  'are',\n",
       "  'carbon',\n",
       "  'monoxide',\n",
       "  'and',\n",
       "  'sulphur',\n",
       "  'dioxide',\n",
       "  'it',\n",
       "  'trap',\n",
       "  'the',\n",
       "  'solar',\n",
       "  'heats',\n",
       "  'rays',\n",
       "  'and',\n",
       "  'prevent',\n",
       "  'it',\n",
       "  'from',\n",
       "  'escaping',\n",
       "  'from',\n",
       "  'the',\n",
       "  'surface',\n",
       "  'of',\n",
       "  'the',\n",
       "  'earth',\n",
       "  '.'],\n",
       " ['this',\n",
       "  'has',\n",
       "  'cause',\n",
       "  'the',\n",
       "  'temperature',\n",
       "  'of',\n",
       "  'the',\n",
       "  'earth',\n",
       "  'increase',\n",
       "  '.'],\n",
       " ['volcanic',\n",
       "  'eruptions',\n",
       "  'are',\n",
       "  'another',\n",
       "  'issue',\n",
       "  'that',\n",
       "  'causes',\n",
       "  'global',\n",
       "  'warming',\n",
       "  '.'],\n",
       " ['for',\n",
       "  'instance',\n",
       "  ',',\n",
       "  'a',\n",
       "  'single',\n",
       "  'volcanic',\n",
       "  'eruption',\n",
       "  'will',\n",
       "  'release',\n",
       "  'amount',\n",
       "  'of',\n",
       "  'carbon',\n",
       "  'dioxide',\n",
       "  'and',\n",
       "  'ash',\n",
       "  'to',\n",
       "  'the',\n",
       "  'atmosphere',\n",
       "  '.'],\n",
       " ['once',\n",
       "  'carbon',\n",
       "  'dioxide',\n",
       "  'increase',\n",
       "  ',',\n",
       "  'the',\n",
       "  'temperature',\n",
       "  'of',\n",
       "  'earth',\n",
       "  'increase',\n",
       "  'and',\n",
       "  'greenhouse',\n",
       "  'trap',\n",
       "  'the',\n",
       "  'solar',\n",
       "  'radiations',\n",
       "  'in',\n",
       "  'the',\n",
       "  'earth',\n",
       "  '.'],\n",
       " ['finally',\n",
       "  ',',\n",
       "  'methane',\n",
       "  'is',\n",
       "  'another',\n",
       "  'issue',\n",
       "  'that',\n",
       "  'causes',\n",
       "  'global',\n",
       "  'warming',\n",
       "  '.'],\n",
       " ['methane', 'is', 'also', 'a', 'greenhouse', 'gas', '.'],\n",
       " ['methane',\n",
       "  'is',\n",
       "  'more',\n",
       "  'effective',\n",
       "  'in',\n",
       "  'trapping',\n",
       "  'heat',\n",
       "  'in',\n",
       "  'the',\n",
       "  'atmosphere',\n",
       "  'that',\n",
       "  'carbon',\n",
       "  'dioxide',\n",
       "  'by',\n",
       "  'times',\n",
       "  '.'],\n",
       " ['usually', 'methane', 'gas', 'can', 'release', 'from', 'many', 'areas', '.'],\n",
       " ['for',\n",
       "  'instance',\n",
       "  ',',\n",
       "  'it',\n",
       "  'can',\n",
       "  'be',\n",
       "  'from',\n",
       "  'cattle',\n",
       "  ',',\n",
       "  'landfill',\n",
       "  ',',\n",
       "  'natural',\n",
       "  'gas',\n",
       "  ',',\n",
       "  'petroleum',\n",
       "  'systems',\n",
       "  ',',\n",
       "  'coal',\n",
       "  'mining',\n",
       "  ',',\n",
       "  'mobile',\n",
       "  'explosion',\n",
       "  ',',\n",
       "  'or',\n",
       "  'industrial',\n",
       "  'waste',\n",
       "  'process',\n",
       "  '.']]"
      ]
     },
     "execution_count": 33,
     "metadata": {},
     "output_type": "execute_result"
    }
   ],
   "source": [
    "sentences"
   ]
  },
  {
   "cell_type": "code",
   "execution_count": 35,
   "id": "b87acf2f",
   "metadata": {},
   "outputs": [],
   "source": [
    "for i in range(len(sentences)):\n",
    "    sentences[i] = [word for word in sentences[i] if word not in stopwords.words('english')]"
   ]
  },
  {
   "cell_type": "code",
   "execution_count": 37,
   "id": "46fffc6f",
   "metadata": {},
   "outputs": [
    {
     "data": {
      "text/plain": [
       "[['climate', 'continuously', 'changing', 'centuries', '.'],\n",
       " ['global',\n",
       "  'warming',\n",
       "  'happens',\n",
       "  'natural',\n",
       "  'rotation',\n",
       "  'sun',\n",
       "  'changes',\n",
       "  'intensity',\n",
       "  'sunlight',\n",
       "  'moving',\n",
       "  'closer',\n",
       "  'earth',\n",
       "  '.'],\n",
       " ['another', 'cause', 'global', 'warming', 'greenhouse', 'gases', '.'],\n",
       " ['greenhouse',\n",
       "  'gases',\n",
       "  'carbon',\n",
       "  'monoxide',\n",
       "  'sulphur',\n",
       "  'dioxide',\n",
       "  'trap',\n",
       "  'solar',\n",
       "  'heats',\n",
       "  'rays',\n",
       "  'prevent',\n",
       "  'escaping',\n",
       "  'surface',\n",
       "  'earth',\n",
       "  '.'],\n",
       " ['cause', 'temperature', 'earth', 'increase', '.'],\n",
       " ['volcanic',\n",
       "  'eruptions',\n",
       "  'another',\n",
       "  'issue',\n",
       "  'causes',\n",
       "  'global',\n",
       "  'warming',\n",
       "  '.'],\n",
       " ['instance',\n",
       "  ',',\n",
       "  'single',\n",
       "  'volcanic',\n",
       "  'eruption',\n",
       "  'release',\n",
       "  'amount',\n",
       "  'carbon',\n",
       "  'dioxide',\n",
       "  'ash',\n",
       "  'atmosphere',\n",
       "  '.'],\n",
       " ['carbon',\n",
       "  'dioxide',\n",
       "  'increase',\n",
       "  ',',\n",
       "  'temperature',\n",
       "  'earth',\n",
       "  'increase',\n",
       "  'greenhouse',\n",
       "  'trap',\n",
       "  'solar',\n",
       "  'radiations',\n",
       "  'earth',\n",
       "  '.'],\n",
       " ['finally',\n",
       "  ',',\n",
       "  'methane',\n",
       "  'another',\n",
       "  'issue',\n",
       "  'causes',\n",
       "  'global',\n",
       "  'warming',\n",
       "  '.'],\n",
       " ['methane', 'also', 'greenhouse', 'gas', '.'],\n",
       " ['methane',\n",
       "  'effective',\n",
       "  'trapping',\n",
       "  'heat',\n",
       "  'atmosphere',\n",
       "  'carbon',\n",
       "  'dioxide',\n",
       "  'times',\n",
       "  '.'],\n",
       " ['usually', 'methane', 'gas', 'release', 'many', 'areas', '.'],\n",
       " ['instance',\n",
       "  ',',\n",
       "  'cattle',\n",
       "  ',',\n",
       "  'landfill',\n",
       "  ',',\n",
       "  'natural',\n",
       "  'gas',\n",
       "  ',',\n",
       "  'petroleum',\n",
       "  'systems',\n",
       "  ',',\n",
       "  'coal',\n",
       "  'mining',\n",
       "  ',',\n",
       "  'mobile',\n",
       "  'explosion',\n",
       "  ',',\n",
       "  'industrial',\n",
       "  'waste',\n",
       "  'process',\n",
       "  '.']]"
      ]
     },
     "execution_count": 37,
     "metadata": {},
     "output_type": "execute_result"
    }
   ],
   "source": [
    "sentences"
   ]
  },
  {
   "cell_type": "code",
   "execution_count": 38,
   "id": "f27d6ea3",
   "metadata": {},
   "outputs": [],
   "source": [
    "model = Word2Vec(sentences,min_count=2)"
   ]
  },
  {
   "cell_type": "markdown",
   "id": "6cfe92ea",
   "metadata": {},
   "source": [
    "# words = model.wv.vocab "
   ]
  },
  {
   "cell_type": "code",
   "execution_count": 39,
   "id": "574c6544",
   "metadata": {},
   "outputs": [],
   "source": [
    "vector = model.wv['global']"
   ]
  },
  {
   "cell_type": "code",
   "execution_count": 40,
   "id": "4c56bb4d",
   "metadata": {},
   "outputs": [
    {
     "data": {
      "text/plain": [
       "(100,)"
      ]
     },
     "execution_count": 40,
     "metadata": {},
     "output_type": "execute_result"
    }
   ],
   "source": [
    "vector.shape"
   ]
  },
  {
   "cell_type": "code",
   "execution_count": 42,
   "id": "b59b8734",
   "metadata": {},
   "outputs": [
    {
     "data": {
      "text/plain": [
       "[('temperature', 0.25295764207839966),\n",
       " ('earth', 0.17037425935268402),\n",
       " ('solar', 0.15011754631996155),\n",
       " ('warming', 0.13924837112426758),\n",
       " ('issue', 0.1084781363606453),\n",
       " ('release', 0.09975417703390121),\n",
       " ('greenhouse', 0.035267166793346405),\n",
       " ('causes', 0.03357555344700813),\n",
       " ('gases', 0.016446169465780258),\n",
       " ('natural', 0.013856201432645321)]"
      ]
     },
     "execution_count": 42,
     "metadata": {},
     "output_type": "execute_result"
    }
   ],
   "source": [
    "model.wv.most_similar('global')"
   ]
  },
  {
   "cell_type": "code",
   "execution_count": 44,
   "id": "7e8f1501",
   "metadata": {},
   "outputs": [
    {
     "data": {
      "text/plain": [
       "[('increase', 0.16687826812267303),\n",
       " ('global', 0.1392483413219452),\n",
       " ('methane', 0.13180485367774963),\n",
       " ('natural', 0.09753084182739258),\n",
       " ('cause', 0.07178264111280441),\n",
       " ('earth', 0.06410785764455795),\n",
       " ('dioxide', 0.06106419488787651),\n",
       " ('issue', 0.04776986315846443),\n",
       " ('temperature', 0.04407171905040741),\n",
       " ('gas', 0.019936688244342804)]"
      ]
     },
     "execution_count": 44,
     "metadata": {},
     "output_type": "execute_result"
    }
   ],
   "source": [
    "model.wv.most_similar('warming')"
   ]
  },
  {
   "cell_type": "code",
   "execution_count": 45,
   "id": "85b2c711",
   "metadata": {},
   "outputs": [
    {
     "data": {
      "text/plain": [
       "[('global', 0.15011754631996155),\n",
       " ('release', 0.14891712367534637),\n",
       " ('gas', 0.12813477218151093),\n",
       " ('trap', 0.11392872035503387),\n",
       " ('.', 0.09306427836418152),\n",
       " ('volcanic', 0.09214343130588531),\n",
       " ('atmosphere', 0.048029832541942596),\n",
       " ('earth', 0.04655710607767105),\n",
       " ('causes', 0.03543855622410774),\n",
       " ('greenhouse', 0.0007717604748904705)]"
      ]
     },
     "execution_count": 45,
     "metadata": {},
     "output_type": "execute_result"
    }
   ],
   "source": [
    "model.wv.most_similar('solar')"
   ]
  },
  {
   "cell_type": "code",
   "execution_count": null,
   "id": "f004f176",
   "metadata": {},
   "outputs": [],
   "source": []
  }
 ],
 "metadata": {
  "kernelspec": {
   "display_name": "Python 3",
   "language": "python",
   "name": "python3"
  },
  "language_info": {
   "codemirror_mode": {
    "name": "ipython",
    "version": 3
   },
   "file_extension": ".py",
   "mimetype": "text/x-python",
   "name": "python",
   "nbconvert_exporter": "python",
   "pygments_lexer": "ipython3",
   "version": "3.6.13"
  }
 },
 "nbformat": 4,
 "nbformat_minor": 5
}
