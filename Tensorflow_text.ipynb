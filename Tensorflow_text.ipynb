{
 "cells": [
  {
   "cell_type": "code",
   "execution_count": 1,
   "id": "15f5131a",
   "metadata": {},
   "outputs": [],
   "source": [
    "import tensorflow as tf\n",
    "from tensorflow import keras \n",
    "from tensorflow.keras.preprocessing.text import Tokenizer"
   ]
  },
  {
   "cell_type": "code",
   "execution_count": 2,
   "id": "95e410b8",
   "metadata": {},
   "outputs": [],
   "source": [
    "sentences = ['I Love my dog',\n",
    "            'I Love my cat'\n",
    "            ]"
   ]
  },
  {
   "cell_type": "code",
   "execution_count": 3,
   "id": "47c8cd62",
   "metadata": {},
   "outputs": [
    {
     "data": {
      "text/plain": [
       "['I Love my dog', 'I Love my cat']"
      ]
     },
     "execution_count": 3,
     "metadata": {},
     "output_type": "execute_result"
    }
   ],
   "source": [
    "sentences"
   ]
  },
  {
   "cell_type": "code",
   "execution_count": 4,
   "id": "915f2e96",
   "metadata": {},
   "outputs": [],
   "source": [
    "tokenizer = Tokenizer(num_words=100)"
   ]
  },
  {
   "cell_type": "code",
   "execution_count": 5,
   "id": "d11e1eb5",
   "metadata": {},
   "outputs": [],
   "source": [
    "tokenizer.fit_on_texts(sentences)"
   ]
  },
  {
   "cell_type": "code",
   "execution_count": 6,
   "id": "391b3e7a",
   "metadata": {},
   "outputs": [],
   "source": [
    "word_index = tokenizer.word_index"
   ]
  },
  {
   "cell_type": "code",
   "execution_count": 7,
   "id": "7540d624",
   "metadata": {},
   "outputs": [
    {
     "data": {
      "text/plain": [
       "{'i': 1, 'love': 2, 'my': 3, 'dog': 4, 'cat': 5}"
      ]
     },
     "execution_count": 7,
     "metadata": {},
     "output_type": "execute_result"
    }
   ],
   "source": [
    "word_index"
   ]
  },
  {
   "cell_type": "markdown",
   "id": "d7d057ba",
   "metadata": {},
   "source": [
    "# Sequences"
   ]
  },
  {
   "cell_type": "markdown",
   "id": "cc316062",
   "metadata": {},
   "source": [
    "# Natural Language Processing sequencing takes a sequence of words and converts them into a sequence of numbers. We can perform other data processing techniques after sequencing the text."
   ]
  },
  {
   "cell_type": "code",
   "execution_count": 8,
   "id": "b6e350b8",
   "metadata": {},
   "outputs": [],
   "source": [
    "from tensorflow.keras.preprocessing.text import Tokenizer"
   ]
  },
  {
   "cell_type": "code",
   "execution_count": 9,
   "id": "083c37f2",
   "metadata": {},
   "outputs": [],
   "source": [
    "sentences = ['I Love my dog',\n",
    "            'I love my cat',\n",
    "            'you love my dog very much',\n",
    "            'do you think my dog is awesome']"
   ]
  },
  {
   "cell_type": "code",
   "execution_count": 11,
   "id": "c99db8f1",
   "metadata": {},
   "outputs": [],
   "source": [
    "tokenizer = Tokenizer(num_words = 100)"
   ]
  },
  {
   "cell_type": "code",
   "execution_count": 16,
   "id": "c5795e6d",
   "metadata": {},
   "outputs": [],
   "source": [
    "tokenizer.fit_on_texts(sentences)"
   ]
  },
  {
   "cell_type": "code",
   "execution_count": 18,
   "id": "7afae1ab",
   "metadata": {},
   "outputs": [],
   "source": [
    "word_index = tokenizer.word_index"
   ]
  },
  {
   "cell_type": "code",
   "execution_count": 19,
   "id": "db446cc9",
   "metadata": {},
   "outputs": [
    {
     "data": {
      "text/plain": [
       "{'my': 1,\n",
       " 'love': 2,\n",
       " 'dog': 3,\n",
       " 'i': 4,\n",
       " 'you': 5,\n",
       " 'cat': 6,\n",
       " 'very': 7,\n",
       " 'much': 8,\n",
       " 'do': 9,\n",
       " 'think': 10,\n",
       " 'is': 11,\n",
       " 'awesome': 12}"
      ]
     },
     "execution_count": 19,
     "metadata": {},
     "output_type": "execute_result"
    }
   ],
   "source": [
    "word_index"
   ]
  },
  {
   "cell_type": "code",
   "execution_count": 20,
   "id": "2bd4992c",
   "metadata": {},
   "outputs": [],
   "source": [
    "sequences = tokenizer.texts_to_sequences(sentences)"
   ]
  },
  {
   "cell_type": "code",
   "execution_count": 21,
   "id": "78558dc5",
   "metadata": {},
   "outputs": [
    {
     "data": {
      "text/plain": [
       "[[4, 2, 1, 3], [4, 2, 1, 6], [5, 2, 1, 3, 7, 8], [9, 5, 10, 1, 3, 11, 12]]"
      ]
     },
     "execution_count": 21,
     "metadata": {},
     "output_type": "execute_result"
    }
   ],
   "source": [
    "sequences"
   ]
  },
  {
   "cell_type": "code",
   "execution_count": 22,
   "id": "a8acea66",
   "metadata": {},
   "outputs": [],
   "source": [
    "test_data = ['i really love my dog',\n",
    "            'my dog love my brother'\n",
    "            ]"
   ]
  },
  {
   "cell_type": "code",
   "execution_count": 23,
   "id": "90bb6058",
   "metadata": {},
   "outputs": [
    {
     "data": {
      "text/plain": [
       "['i really love my dog', 'my dog love my brother']"
      ]
     },
     "execution_count": 23,
     "metadata": {},
     "output_type": "execute_result"
    }
   ],
   "source": [
    "test_data"
   ]
  },
  {
   "cell_type": "code",
   "execution_count": 26,
   "id": "05ce33ee",
   "metadata": {},
   "outputs": [],
   "source": [
    "test_seq = tokenizer.texts_to_sequences(test_data)"
   ]
  },
  {
   "cell_type": "code",
   "execution_count": 27,
   "id": "e76a3e24",
   "metadata": {},
   "outputs": [
    {
     "data": {
      "text/plain": [
       "[[4, 2, 1, 3], [1, 3, 2, 1]]"
      ]
     },
     "execution_count": 27,
     "metadata": {},
     "output_type": "execute_result"
    }
   ],
   "source": [
    "test_seq"
   ]
  },
  {
   "cell_type": "markdown",
   "id": "df7c9ecd",
   "metadata": {},
   "source": [
    "# Out of Vocabulary"
   ]
  },
  {
   "cell_type": "markdown",
   "id": "23d3832a",
   "metadata": {},
   "source": [
    "# ut-of-vocabulary (OOV) words are unknown words that appear in the testing speech but not in the recognition vocabulary. They are usually important content words such as names and locations which contain information crucial to the success of many speech recognition tasks."
   ]
  },
  {
   "cell_type": "code",
   "execution_count": 28,
   "id": "5d2a92b2",
   "metadata": {},
   "outputs": [],
   "source": [
    "from tensorflow.keras.preprocessing.text import Tokenizer"
   ]
  },
  {
   "cell_type": "code",
   "execution_count": 29,
   "id": "02996ca6",
   "metadata": {},
   "outputs": [],
   "source": [
    "serntences =['I love my dog',\n",
    "             'i love my cat',\n",
    "             'you love my dog verty much',\n",
    "             'do you think my dog is awesome'\n",
    "]"
   ]
  },
  {
   "cell_type": "code",
   "execution_count": 30,
   "id": "d67ba16d",
   "metadata": {},
   "outputs": [
    {
     "data": {
      "text/plain": [
       "['I Love my dog',\n",
       " 'I love my cat',\n",
       " 'you love my dog very much',\n",
       " 'do you think my dog is awesome']"
      ]
     },
     "execution_count": 30,
     "metadata": {},
     "output_type": "execute_result"
    }
   ],
   "source": [
    "sentences"
   ]
  },
  {
   "cell_type": "code",
   "execution_count": 31,
   "id": "b32c3fa9",
   "metadata": {},
   "outputs": [],
   "source": [
    "tokenizer = Tokenizer(num_words = 100,oov_token='<oov>')"
   ]
  },
  {
   "cell_type": "code",
   "execution_count": 33,
   "id": "d538d306",
   "metadata": {},
   "outputs": [],
   "source": [
    "tokenizer.fit_on_texts(sentences)"
   ]
  },
  {
   "cell_type": "code",
   "execution_count": 35,
   "id": "2a3190e4",
   "metadata": {},
   "outputs": [],
   "source": [
    "word_index = tokenizer.word_index"
   ]
  },
  {
   "cell_type": "code",
   "execution_count": 36,
   "id": "7784a698",
   "metadata": {},
   "outputs": [
    {
     "data": {
      "text/plain": [
       "{'<oov>': 1,\n",
       " 'my': 2,\n",
       " 'love': 3,\n",
       " 'dog': 4,\n",
       " 'i': 5,\n",
       " 'you': 6,\n",
       " 'cat': 7,\n",
       " 'very': 8,\n",
       " 'much': 9,\n",
       " 'do': 10,\n",
       " 'think': 11,\n",
       " 'is': 12,\n",
       " 'awesome': 13}"
      ]
     },
     "execution_count": 36,
     "metadata": {},
     "output_type": "execute_result"
    }
   ],
   "source": [
    "word_index"
   ]
  },
  {
   "cell_type": "code",
   "execution_count": 40,
   "id": "4362eca7",
   "metadata": {},
   "outputs": [],
   "source": [
    "sequences = tokenizer.texts_to_sequences(sentences)"
   ]
  },
  {
   "cell_type": "code",
   "execution_count": 41,
   "id": "8201d8f8",
   "metadata": {},
   "outputs": [
    {
     "data": {
      "text/plain": [
       "[[5, 3, 2, 4], [5, 3, 2, 7], [6, 3, 2, 4, 8, 9], [10, 6, 11, 2, 4, 12, 13]]"
      ]
     },
     "execution_count": 41,
     "metadata": {},
     "output_type": "execute_result"
    }
   ],
   "source": [
    "sequences"
   ]
  },
  {
   "cell_type": "code",
   "execution_count": 42,
   "id": "54988b11",
   "metadata": {},
   "outputs": [
    {
     "data": {
      "text/plain": [
       "['i really love my dog', 'my dog love my brother']"
      ]
     },
     "execution_count": 42,
     "metadata": {},
     "output_type": "execute_result"
    }
   ],
   "source": [
    "test_data"
   ]
  },
  {
   "cell_type": "code",
   "execution_count": 44,
   "id": "65a382b5",
   "metadata": {},
   "outputs": [],
   "source": [
    "test_seq = tokenizer.texts_to_sequences(test_data)"
   ]
  },
  {
   "cell_type": "code",
   "execution_count": 45,
   "id": "d686b16b",
   "metadata": {},
   "outputs": [
    {
     "data": {
      "text/plain": [
       "[[5, 1, 3, 2, 4], [2, 4, 3, 2, 1]]"
      ]
     },
     "execution_count": 45,
     "metadata": {},
     "output_type": "execute_result"
    }
   ],
   "source": [
    "test_seq"
   ]
  },
  {
   "cell_type": "markdown",
   "id": "4d4b3e7a",
   "metadata": {},
   "source": [
    "# Padding"
   ]
  },
  {
   "cell_type": "markdown",
   "id": "acebe573",
   "metadata": {},
   "source": [
    "# Padding is the process of adding layers of zeros or other values outside the actual data in an input matrix."
   ]
  },
  {
   "cell_type": "code",
   "execution_count": 48,
   "id": "e3d06603",
   "metadata": {},
   "outputs": [],
   "source": [
    "from tensorflow.keras.preprocessing.text import Tokenizer \n",
    "from  tensorflow.keras.preprocessing.sequence import pad_sequences"
   ]
  },
  {
   "cell_type": "code",
   "execution_count": 49,
   "id": "c8d940cb",
   "metadata": {},
   "outputs": [],
   "source": [
    "sentences =['I love my dog',\n",
    "           'i love my cat',\n",
    "           'you love my dog very much',\n",
    "           'do you think my dog is awesome']"
   ]
  },
  {
   "cell_type": "code",
   "execution_count": 51,
   "id": "bda1cd50",
   "metadata": {},
   "outputs": [
    {
     "data": {
      "text/plain": [
       "['I love my dog',\n",
       " 'i love my cat',\n",
       " 'you love my dog very much',\n",
       " 'do you think my dog is awesome']"
      ]
     },
     "execution_count": 51,
     "metadata": {},
     "output_type": "execute_result"
    }
   ],
   "source": [
    "sentences"
   ]
  },
  {
   "cell_type": "code",
   "execution_count": 53,
   "id": "7e48ae21",
   "metadata": {},
   "outputs": [],
   "source": [
    "tokenizer = Tokenizer(num_words = 100,oov_token='<oov>')"
   ]
  },
  {
   "cell_type": "code",
   "execution_count": 54,
   "id": "d6423a6b",
   "metadata": {},
   "outputs": [],
   "source": [
    "tokenizer.fit_on_texts(sentences)"
   ]
  },
  {
   "cell_type": "code",
   "execution_count": 56,
   "id": "89d586cc",
   "metadata": {},
   "outputs": [],
   "source": [
    "word_index = tokenizer.word_index"
   ]
  },
  {
   "cell_type": "code",
   "execution_count": 57,
   "id": "64f04b3f",
   "metadata": {},
   "outputs": [
    {
     "data": {
      "text/plain": [
       "{'<oov>': 1,\n",
       " 'my': 2,\n",
       " 'love': 3,\n",
       " 'dog': 4,\n",
       " 'i': 5,\n",
       " 'you': 6,\n",
       " 'cat': 7,\n",
       " 'very': 8,\n",
       " 'much': 9,\n",
       " 'do': 10,\n",
       " 'think': 11,\n",
       " 'is': 12,\n",
       " 'awesome': 13}"
      ]
     },
     "execution_count": 57,
     "metadata": {},
     "output_type": "execute_result"
    }
   ],
   "source": [
    "word_index"
   ]
  },
  {
   "cell_type": "code",
   "execution_count": 60,
   "id": "0d60fbc3",
   "metadata": {},
   "outputs": [],
   "source": [
    "sequence = tokenizer.texts_to_sequences(sentences)"
   ]
  },
  {
   "cell_type": "code",
   "execution_count": 61,
   "id": "fa80435a",
   "metadata": {},
   "outputs": [
    {
     "data": {
      "text/plain": [
       "[[5, 3, 2, 4], [5, 3, 2, 7], [6, 3, 2, 4, 8, 9], [10, 6, 11, 2, 4, 12, 13]]"
      ]
     },
     "execution_count": 61,
     "metadata": {},
     "output_type": "execute_result"
    }
   ],
   "source": [
    "sequence"
   ]
  },
  {
   "cell_type": "code",
   "execution_count": 63,
   "id": "57131d6e",
   "metadata": {},
   "outputs": [],
   "source": [
    "padded = pad_sequences(sequences)"
   ]
  },
  {
   "cell_type": "code",
   "execution_count": 64,
   "id": "5870ccf1",
   "metadata": {},
   "outputs": [
    {
     "data": {
      "text/plain": [
       "array([[ 0,  0,  0,  5,  3,  2,  4],\n",
       "       [ 0,  0,  0,  5,  3,  2,  7],\n",
       "       [ 0,  6,  3,  2,  4,  8,  9],\n",
       "       [10,  6, 11,  2,  4, 12, 13]])"
      ]
     },
     "execution_count": 64,
     "metadata": {},
     "output_type": "execute_result"
    }
   ],
   "source": [
    "padded"
   ]
  },
  {
   "cell_type": "code",
   "execution_count": 65,
   "id": "ce85f1b0",
   "metadata": {},
   "outputs": [],
   "source": [
    "padded1 = pad_sequences(sequences,padding='post')"
   ]
  },
  {
   "cell_type": "code",
   "execution_count": 66,
   "id": "caa6986b",
   "metadata": {},
   "outputs": [
    {
     "data": {
      "text/plain": [
       "array([[ 5,  3,  2,  4,  0,  0,  0],\n",
       "       [ 5,  3,  2,  7,  0,  0,  0],\n",
       "       [ 6,  3,  2,  4,  8,  9,  0],\n",
       "       [10,  6, 11,  2,  4, 12, 13]])"
      ]
     },
     "execution_count": 66,
     "metadata": {},
     "output_type": "execute_result"
    }
   ],
   "source": [
    "padded1"
   ]
  },
  {
   "cell_type": "code",
   "execution_count": 67,
   "id": "ed9a6333",
   "metadata": {},
   "outputs": [],
   "source": [
    "padded2 = pad_sequences(sequences,padding='pre',maxlen=5)"
   ]
  },
  {
   "cell_type": "code",
   "execution_count": 68,
   "id": "07c4f2f7",
   "metadata": {},
   "outputs": [
    {
     "data": {
      "text/plain": [
       "array([[ 0,  5,  3,  2,  4],\n",
       "       [ 0,  5,  3,  2,  7],\n",
       "       [ 3,  2,  4,  8,  9],\n",
       "       [11,  2,  4, 12, 13]])"
      ]
     },
     "execution_count": 68,
     "metadata": {},
     "output_type": "execute_result"
    }
   ],
   "source": [
    "padded2"
   ]
  },
  {
   "cell_type": "code",
   "execution_count": 69,
   "id": "e443dff3",
   "metadata": {},
   "outputs": [],
   "source": [
    "padded3 = pad_sequences(sequences,truncating='post',maxlen=5)"
   ]
  },
  {
   "cell_type": "code",
   "execution_count": 70,
   "id": "0d4cd7e7",
   "metadata": {},
   "outputs": [
    {
     "data": {
      "text/plain": [
       "array([[ 0,  5,  3,  2,  4],\n",
       "       [ 0,  5,  3,  2,  7],\n",
       "       [ 6,  3,  2,  4,  8],\n",
       "       [10,  6, 11,  2,  4]])"
      ]
     },
     "execution_count": 70,
     "metadata": {},
     "output_type": "execute_result"
    }
   ],
   "source": [
    "padded3"
   ]
  },
  {
   "cell_type": "code",
   "execution_count": null,
   "id": "0c994592",
   "metadata": {},
   "outputs": [],
   "source": []
  }
 ],
 "metadata": {
  "kernelspec": {
   "display_name": "Python 3",
   "language": "python",
   "name": "python3"
  },
  "language_info": {
   "codemirror_mode": {
    "name": "ipython",
    "version": 3
   },
   "file_extension": ".py",
   "mimetype": "text/x-python",
   "name": "python",
   "nbconvert_exporter": "python",
   "pygments_lexer": "ipython3",
   "version": "3.6.13"
  }
 },
 "nbformat": 4,
 "nbformat_minor": 5
}
