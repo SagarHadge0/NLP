{
 "cells": [
  {
   "cell_type": "code",
   "execution_count": 1,
   "id": "0c2fffe2",
   "metadata": {},
   "outputs": [],
   "source": [
    "import re"
   ]
  },
  {
   "cell_type": "code",
   "execution_count": 2,
   "id": "4fb188cc",
   "metadata": {},
   "outputs": [],
   "source": [
    "sentence = \"I Love India India\""
   ]
  },
  {
   "cell_type": "code",
   "execution_count": 3,
   "id": "c21c9a8d",
   "metadata": {},
   "outputs": [
    {
     "data": {
      "text/plain": [
       "'I Love India India'"
      ]
     },
     "execution_count": 3,
     "metadata": {},
     "output_type": "execute_result"
    }
   ],
   "source": [
    "sentence"
   ]
  },
  {
   "cell_type": "code",
   "execution_count": 4,
   "id": "bfc12743",
   "metadata": {},
   "outputs": [
    {
     "data": {
      "text/plain": [
       "'I Love Bharat Bharat'"
      ]
     },
     "execution_count": 4,
     "metadata": {},
     "output_type": "execute_result"
    }
   ],
   "source": [
    "re.sub(r\"India\",\"Bharat\",sentence)"
   ]
  },
  {
   "cell_type": "code",
   "execution_count": 5,
   "id": "e01439a3",
   "metadata": {},
   "outputs": [
    {
     "data": {
      "text/plain": [
       "'I Love India India'"
      ]
     },
     "execution_count": 5,
     "metadata": {},
     "output_type": "execute_result"
    }
   ],
   "source": [
    "sentence"
   ]
  },
  {
   "cell_type": "code",
   "execution_count": 6,
   "id": "57e47eba",
   "metadata": {},
   "outputs": [
    {
     "data": {
      "text/plain": [
       "'I Love Bharat India'"
      ]
     },
     "execution_count": 6,
     "metadata": {},
     "output_type": "execute_result"
    }
   ],
   "source": [
    "re.sub(r\"India\",'Bharat',sentence,count=1)"
   ]
  },
  {
   "cell_type": "code",
   "execution_count": 7,
   "id": "ff14cd38",
   "metadata": {},
   "outputs": [
    {
     "data": {
      "text/plain": [
       "'I Love India India'"
      ]
     },
     "execution_count": 7,
     "metadata": {},
     "output_type": "execute_result"
    }
   ],
   "source": [
    "sentence"
   ]
  },
  {
   "cell_type": "code",
   "execution_count": 8,
   "id": "fbe1431f",
   "metadata": {},
   "outputs": [
    {
     "data": {
      "text/plain": [
       "'I Love Bharat Bharat'"
      ]
     },
     "execution_count": 8,
     "metadata": {},
     "output_type": "execute_result"
    }
   ],
   "source": [
    "re.sub(r'India','Bharat',sentence,flags=re.I)"
   ]
  },
  {
   "cell_type": "code",
   "execution_count": 9,
   "id": "aad812eb",
   "metadata": {},
   "outputs": [
    {
     "data": {
      "text/plain": [
       "'I Looo Ioooo Ioooo'"
      ]
     },
     "execution_count": 9,
     "metadata": {},
     "output_type": "execute_result"
    }
   ],
   "source": [
    "re.sub(r'[a-z]','o',sentence)"
   ]
  },
  {
   "cell_type": "code",
   "execution_count": 10,
   "id": "957ca931",
   "metadata": {},
   "outputs": [
    {
     "data": {
      "text/plain": [
       "'o oove ondia ondia'"
      ]
     },
     "execution_count": 10,
     "metadata": {},
     "output_type": "execute_result"
    }
   ],
   "source": [
    "re.sub(r'[A-Z]','o',sentence)"
   ]
  },
  {
   "cell_type": "code",
   "execution_count": 11,
   "id": "f8a49ce1",
   "metadata": {},
   "outputs": [
    {
     "data": {
      "text/plain": [
       "'ooooveoondiaoondia'"
      ]
     },
     "execution_count": 11,
     "metadata": {},
     "output_type": "execute_result"
    }
   ],
   "source": [
    "re.sub(r'[^a-z]','o',sentence)"
   ]
  },
  {
   "cell_type": "code",
   "execution_count": 12,
   "id": "544faf89",
   "metadata": {},
   "outputs": [
    {
     "data": {
      "text/plain": [
       "'o oove ondia ondia'"
      ]
     },
     "execution_count": 12,
     "metadata": {},
     "output_type": "execute_result"
    }
   ],
   "source": [
    "re.sub(r'[^a-z\\s]','o',sentence)"
   ]
  },
  {
   "cell_type": "code",
   "execution_count": 13,
   "id": "976e2e4d",
   "metadata": {},
   "outputs": [],
   "source": [
    "sentence1 = 'welcome to the year 2024'\n",
    "sentence2 =\"i just !@$++++ arived at @my ofice. #starting work\"\n",
    "sentence3 = 'I      Love     You'\n"
   ]
  },
  {
   "cell_type": "code",
   "execution_count": 14,
   "id": "812be6ee",
   "metadata": {},
   "outputs": [
    {
     "data": {
      "text/plain": [
       "'welcome to the year 2024'"
      ]
     },
     "execution_count": 14,
     "metadata": {},
     "output_type": "execute_result"
    }
   ],
   "source": [
    "sentence1"
   ]
  },
  {
   "cell_type": "code",
   "execution_count": 15,
   "id": "2a40b58f",
   "metadata": {},
   "outputs": [],
   "source": [
    "sent1 = re.sub(r'\\d',' ',sentence1)\n"
   ]
  },
  {
   "cell_type": "code",
   "execution_count": 16,
   "id": "37462e02",
   "metadata": {},
   "outputs": [
    {
     "data": {
      "text/plain": [
       "'welcome to the year     '"
      ]
     },
     "execution_count": 16,
     "metadata": {},
     "output_type": "execute_result"
    }
   ],
   "source": [
    "sent1"
   ]
  },
  {
   "cell_type": "code",
   "execution_count": 17,
   "id": "327c8633",
   "metadata": {},
   "outputs": [],
   "source": [
    "sent1 = re.sub(r'\\s+',' ',sent1)\n"
   ]
  },
  {
   "cell_type": "code",
   "execution_count": 18,
   "id": "ec0692d5",
   "metadata": {},
   "outputs": [
    {
     "data": {
      "text/plain": [
       "'welcome to the year '"
      ]
     },
     "execution_count": 18,
     "metadata": {},
     "output_type": "execute_result"
    }
   ],
   "source": [
    "sent1"
   ]
  },
  {
   "cell_type": "code",
   "execution_count": 19,
   "id": "60796e8f",
   "metadata": {},
   "outputs": [],
   "source": [
    "sent1 = re.sub(r'\\s+$','',sent1)"
   ]
  },
  {
   "cell_type": "code",
   "execution_count": 20,
   "id": "0f4d08f5",
   "metadata": {},
   "outputs": [
    {
     "data": {
      "text/plain": [
       "'welcome to the year'"
      ]
     },
     "execution_count": 20,
     "metadata": {},
     "output_type": "execute_result"
    }
   ],
   "source": [
    "sent1"
   ]
  },
  {
   "cell_type": "code",
   "execution_count": 21,
   "id": "7eb55140",
   "metadata": {},
   "outputs": [
    {
     "data": {
      "text/plain": [
       "'i just !@$++++ arived at @my ofice. #starting work'"
      ]
     },
     "execution_count": 21,
     "metadata": {},
     "output_type": "execute_result"
    }
   ],
   "source": [
    "sentence2"
   ]
  },
  {
   "cell_type": "code",
   "execution_count": 22,
   "id": "ff4456ac",
   "metadata": {},
   "outputs": [],
   "source": [
    "sent2 = re.sub(r'[!@#%$%%^&*_+]',' ',sentence2)"
   ]
  },
  {
   "cell_type": "code",
   "execution_count": 23,
   "id": "c7397b7a",
   "metadata": {},
   "outputs": [
    {
     "data": {
      "text/plain": [
       "'i just         arived at  my ofice.  starting work'"
      ]
     },
     "execution_count": 23,
     "metadata": {},
     "output_type": "execute_result"
    }
   ],
   "source": [
    "sent2"
   ]
  },
  {
   "cell_type": "code",
   "execution_count": 24,
   "id": "ceffe981",
   "metadata": {},
   "outputs": [],
   "source": [
    "sent2_2 = re.sub(r'\\s+',' ',sent2)"
   ]
  },
  {
   "cell_type": "code",
   "execution_count": 25,
   "id": "7fc0cae1",
   "metadata": {},
   "outputs": [
    {
     "data": {
      "text/plain": [
       "'i just arived at my ofice. starting work'"
      ]
     },
     "execution_count": 25,
     "metadata": {},
     "output_type": "execute_result"
    }
   ],
   "source": [
    "sent2_2"
   ]
  },
  {
   "cell_type": "code",
   "execution_count": 26,
   "id": "e756d1d5",
   "metadata": {},
   "outputs": [
    {
     "data": {
      "text/plain": [
       "'I      Love     You'"
      ]
     },
     "execution_count": 26,
     "metadata": {},
     "output_type": "execute_result"
    }
   ],
   "source": [
    "sentence3"
   ]
  },
  {
   "cell_type": "code",
   "execution_count": 27,
   "id": "d11bf10f",
   "metadata": {},
   "outputs": [],
   "source": [
    "sent3 =  re.sub(r'\\s+','',sentence3)"
   ]
  },
  {
   "cell_type": "code",
   "execution_count": 28,
   "id": "11b29147",
   "metadata": {},
   "outputs": [
    {
     "data": {
      "text/plain": [
       "'ILoveYou'"
      ]
     },
     "execution_count": 28,
     "metadata": {},
     "output_type": "execute_result"
    }
   ],
   "source": [
    "sent3"
   ]
  },
  {
   "cell_type": "code",
   "execution_count": 29,
   "id": "a64415d3",
   "metadata": {},
   "outputs": [],
   "source": [
    "sent3 = re.sub(r'\\s+Love\\s+',' like ',sentence3)"
   ]
  },
  {
   "cell_type": "code",
   "execution_count": 30,
   "id": "6e6cd122",
   "metadata": {},
   "outputs": [
    {
     "data": {
      "text/plain": [
       "'I like You'"
      ]
     },
     "execution_count": 30,
     "metadata": {},
     "output_type": "execute_result"
    }
   ],
   "source": [
    "sent3"
   ]
  },
  {
   "cell_type": "code",
   "execution_count": 31,
   "id": "de7d8166",
   "metadata": {},
   "outputs": [],
   "source": [
    "x = ['I live in @nagpur',\n",
    "    'welcome to the very nagpur 1',\n",
    "    '1254568 the number i know',\n",
    "    'Remember the name s-john',\n",
    "    'I    hate   You'\n",
    "    ]"
   ]
  },
  {
   "cell_type": "code",
   "execution_count": 32,
   "id": "15c2f824",
   "metadata": {},
   "outputs": [
    {
     "data": {
      "text/plain": [
       "['I live in @nagpur',\n",
       " 'welcome to the very nagpur 1',\n",
       " '1254568 the number i know',\n",
       " 'Remember the name s-john',\n",
       " 'I    hate   You']"
      ]
     },
     "execution_count": 32,
     "metadata": {},
     "output_type": "execute_result"
    }
   ],
   "source": [
    "x"
   ]
  },
  {
   "cell_type": "code",
   "execution_count": 33,
   "id": "d1471df9",
   "metadata": {},
   "outputs": [
    {
     "data": {
      "text/plain": [
       "'1254568 the number i know'"
      ]
     },
     "execution_count": 33,
     "metadata": {},
     "output_type": "execute_result"
    }
   ],
   "source": [
    "x[2]"
   ]
  },
  {
   "cell_type": "code",
   "execution_count": 34,
   "id": "1f471f32",
   "metadata": {},
   "outputs": [
    {
     "data": {
      "text/plain": [
       "'Remember the name s-john'"
      ]
     },
     "execution_count": 34,
     "metadata": {},
     "output_type": "execute_result"
    }
   ],
   "source": [
    "x[3]"
   ]
  },
  {
   "cell_type": "code",
   "execution_count": 35,
   "id": "c964347f",
   "metadata": {},
   "outputs": [],
   "source": [
    "for i in range(len(x)):\n",
    "    x[i] = re.sub(r'\\W',' ',x[i])\n",
    "    x[i] = re.sub(r'\\d',' ',x[i])\n",
    "    x[i] = re.sub(r'\\s[s]\\s',' ',x[i])\n",
    "    x[i] = re.sub(r'\\s+',' ',x[i])\n",
    "    x[i] = re.sub(r'^\\s+|\\s+$','',x[i])\n",
    "      "
   ]
  },
  {
   "cell_type": "code",
   "execution_count": 36,
   "id": "11f589bf",
   "metadata": {},
   "outputs": [
    {
     "data": {
      "text/plain": [
       "['I live in nagpur',\n",
       " 'welcome to the very nagpur',\n",
       " 'the number i know',\n",
       " 'Remember the name john',\n",
       " 'I hate You']"
      ]
     },
     "execution_count": 36,
     "metadata": {},
     "output_type": "execute_result"
    }
   ],
   "source": [
    "x"
   ]
  },
  {
   "cell_type": "code",
   "execution_count": 37,
   "id": "6d922216",
   "metadata": {},
   "outputs": [],
   "source": [
    "x2 = [' A paragraph is a $series of sentences @that are organized',\n",
    "     '35577989 and coherent, and are all related to a single topic',\n",
    "     'Almost every piece of writing you do that is longer than 80',\n",
    "     'a few   sentences should be organized   into paragraphs']"
   ]
  },
  {
   "cell_type": "code",
   "execution_count": 38,
   "id": "f0d0745a",
   "metadata": {},
   "outputs": [
    {
     "data": {
      "text/plain": [
       "[' A paragraph is a $series of sentences @that are organized',\n",
       " '35577989 and coherent, and are all related to a single topic',\n",
       " 'Almost every piece of writing you do that is longer than 80',\n",
       " 'a few   sentences should be organized   into paragraphs']"
      ]
     },
     "execution_count": 38,
     "metadata": {},
     "output_type": "execute_result"
    }
   ],
   "source": [
    "x2"
   ]
  },
  {
   "cell_type": "code",
   "execution_count": 39,
   "id": "e8c3858a",
   "metadata": {},
   "outputs": [],
   "source": [
    "for i in range(len(x2)):\n",
    "    x2[i] = re.sub(r'\\W',' ',x2[i])\n",
    "    x2[i] = re.sub(r'\\d',' ',x2[i])\n",
    "    x2[i] = re.sub(r'\\s[s]\\s',' ',x2[i])\n",
    "    x2[i] = re.sub(r'\\s+',' ',x2[i])\n",
    "    x2[i] = re.sub(r'^\\s+|\\s+$','',x2[i])\n",
    "      "
   ]
  },
  {
   "cell_type": "code",
   "execution_count": 40,
   "id": "6e3df5e1",
   "metadata": {},
   "outputs": [
    {
     "data": {
      "text/plain": [
       "['A paragraph is a series of sentences that are organized',\n",
       " 'and coherent and are all related to a single topic',\n",
       " 'Almost every piece of writing you do that is longer than',\n",
       " 'a few sentences should be organized into paragraphs']"
      ]
     },
     "execution_count": 40,
     "metadata": {},
     "output_type": "execute_result"
    }
   ],
   "source": [
    "x2"
   ]
  },
  {
   "cell_type": "code",
   "execution_count": 49,
   "id": "d4fa660d",
   "metadata": {},
   "outputs": [],
   "source": [
    "y = ['Essay topics $in English #le writing essays, many college and high school students face writer',\n",
    "     's block and have a hard time 46569878 to think about topics and ideas for an essay.',\n",
    "     'In this article, we will list out many good essay topics from different categories like argumentative essays778907',\n",
    "     'essays on technology, environment essays for students from 5th, 6th, 7th, 8th grades.',\n",
    "     'Following list of essay topics are for all – from kids to college students.',\n",
    "     'We have the largest collection %$*^TYof essays. An essay is nothing but a piece of content',\n",
    "     'which is written6558o from the perception of writer or author.',\n",
    "     'Essays are similar to a story, pamphlet, thesis, etc.', \n",
    "     'The best thing about Essay is you can use any type of language – formal or informal. It can biography',\n",
    "     'the autobiography of anyone.     Following is a great     list of 100 essay topics. We will be adding 400 more soon!']"
   ]
  },
  {
   "cell_type": "code",
   "execution_count": 50,
   "id": "b76989c4",
   "metadata": {
    "scrolled": true
   },
   "outputs": [
    {
     "data": {
      "text/plain": [
       "['Essay topics $in English #le writing essays, many college and high school students face writer',\n",
       " 's block and have a hard time 46569878 to think about topics and ideas for an essay.',\n",
       " 'In this article, we will list out many good essay topics from different categories like argumentative essays778907',\n",
       " 'essays on technology, environment essays for students from 5th, 6th, 7th, 8th grades.',\n",
       " 'Following list of essay topics are for all – from kids to college students.',\n",
       " 'We have the largest collection %$*^TYof essays. An essay is nothing but a piece of content',\n",
       " 'which is written6558o from the perception of writer or author.',\n",
       " 'Essays are similar to a story, pamphlet, thesis, etc.',\n",
       " 'The best thing about Essay is you can use any type of language – formal or informal. It can biography',\n",
       " 'the autobiography of anyone.     Following is a great     list of 100 essay topics. We will be adding 400 more soon!']"
      ]
     },
     "execution_count": 50,
     "metadata": {},
     "output_type": "execute_result"
    }
   ],
   "source": [
    "y"
   ]
  },
  {
   "cell_type": "code",
   "execution_count": 54,
   "id": "5ab64e03",
   "metadata": {},
   "outputs": [
    {
     "name": "stdout",
     "output_type": "stream",
     "text": [
      "['Esay topics in English le writing esays many college and high school students face writer', 's block and have a hard time to think about topics and ideas for an esay', 'In this article we will list out many good esay topics from different categories like argumentative esays', 'esays on technology environment esays for students from th th th th grades', 'Following list of esay topics are for all from kids to college students', 'We have the largest collection TYof esays An esay is nothing but a piece of content', 'which is written o from the perception of writer or author', 'Esays are similar to a story pamphlet thesis etc', 'The best thing about Esay is you can use any type of language formal or informal It can biography', 'the autobiography of anyone Following is a great list of esay topics We will be adding more soon']\n"
     ]
    }
   ],
   "source": [
    "for i in range(len(y)):\n",
    "    y[i] = re.sub(r'\\W', ' ', y[i])  # Replace non-word characters with spaces\n",
    "    y[i] = re.sub(r'\\d', ' ', y[i])  # Replace digits with spaces\n",
    "    y[i] = re.sub(r's+', 's', y[i])  # Replace multiple 's' with a single 's'\n",
    "    y[i] = re.sub(r'\\s+', ' ', y[i])  # Replace multiple spaces with a single space\n",
    "    y[i] = re.sub(r'^\\s+|\\s+$', '', y[i])  # Remove leading and trailing spaces\n",
    "print(y)"
   ]
  },
  {
   "cell_type": "code",
   "execution_count": null,
   "id": "bd36468b",
   "metadata": {},
   "outputs": [],
   "source": []
  }
 ],
 "metadata": {
  "kernelspec": {
   "display_name": "Python 3",
   "language": "python",
   "name": "python3"
  },
  "language_info": {
   "codemirror_mode": {
    "name": "ipython",
    "version": 3
   },
   "file_extension": ".py",
   "mimetype": "text/x-python",
   "name": "python",
   "nbconvert_exporter": "python",
   "pygments_lexer": "ipython3",
   "version": "3.6.13"
  }
 },
 "nbformat": 4,
 "nbformat_minor": 5
}
