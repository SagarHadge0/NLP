{
 "cells": [
  {
   "cell_type": "code",
   "execution_count": 1,
   "id": "72240d54",
   "metadata": {},
   "outputs": [],
   "source": [
    "sentence = 'I am 25 years old born in 1996'"
   ]
  },
  {
   "cell_type": "code",
   "execution_count": 2,
   "id": "ec7fcd67",
   "metadata": {},
   "outputs": [
    {
     "data": {
      "text/plain": [
       "'I am 25 years old born in 1996'"
      ]
     },
     "execution_count": 2,
     "metadata": {},
     "output_type": "execute_result"
    }
   ],
   "source": [
    "sentence"
   ]
  },
  {
   "cell_type": "code",
   "execution_count": 3,
   "id": "5625d023",
   "metadata": {},
   "outputs": [],
   "source": [
    "import re"
   ]
  },
  {
   "cell_type": "code",
   "execution_count": 5,
   "id": "6580bba2",
   "metadata": {},
   "outputs": [
    {
     "data": {
      "text/plain": [
       "'I am    years old born in     '"
      ]
     },
     "execution_count": 5,
     "metadata": {},
     "output_type": "execute_result"
    }
   ],
   "source": [
    "re.sub(r\"\\d\",\" \",sentence)          #\\d remove digit"
   ]
  },
  {
   "cell_type": "code",
   "execution_count": 6,
   "id": "047a7853",
   "metadata": {},
   "outputs": [
    {
     "data": {
      "text/plain": [
       "'     25                   1996'"
      ]
     },
     "execution_count": 6,
     "metadata": {},
     "output_type": "execute_result"
    }
   ],
   "source": [
    "re.sub(r\"\\D\",\" \",sentence)          #\\D remove words"
   ]
  },
  {
   "cell_type": "code",
   "execution_count": 7,
   "id": "cab43e1e",
   "metadata": {},
   "outputs": [
    {
     "data": {
      "text/plain": [
       "'I am && years old born in &&&&'"
      ]
     },
     "execution_count": 7,
     "metadata": {},
     "output_type": "execute_result"
    }
   ],
   "source": [
    "re.sub(r\"\\d\",\"&\",sentence)           #remove digits with replace &"
   ]
  },
  {
   "cell_type": "code",
   "execution_count": 9,
   "id": "4121436e",
   "metadata": {},
   "outputs": [
    {
     "data": {
      "text/plain": [
       "'&&&&&25&&&&&&&&&&&&&&&&&&&1996'"
      ]
     },
     "execution_count": 9,
     "metadata": {},
     "output_type": "execute_result"
    }
   ],
   "source": [
    "re.sub(r\"\\D\",\"&\",sentence)            #replace words by &"
   ]
  },
  {
   "cell_type": "code",
   "execution_count": 11,
   "id": "c56486ac",
   "metadata": {},
   "outputs": [
    {
     "data": {
      "text/plain": [
       "'                              '"
      ]
     },
     "execution_count": 11,
     "metadata": {},
     "output_type": "execute_result"
    }
   ],
   "source": [
    "re.sub(r\".\",\" \",sentence)             #any charecter"
   ]
  },
  {
   "cell_type": "code",
   "execution_count": 12,
   "id": "d1cdcd7b",
   "metadata": {},
   "outputs": [
    {
     "data": {
      "text/plain": [
       "<re.Match object; span=(0, 1), match='I'>"
      ]
     },
     "execution_count": 12,
     "metadata": {},
     "output_type": "execute_result"
    }
   ],
   "source": [
    "re .match(r\".\",sentence)"
   ]
  },
  {
   "cell_type": "code",
   "execution_count": 13,
   "id": "f36403fb",
   "metadata": {},
   "outputs": [
    {
     "data": {
      "text/plain": [
       "<re.Match object; span=(0, 30), match='I am 25 years old born in 1996'>"
      ]
     },
     "execution_count": 13,
     "metadata": {},
     "output_type": "execute_result"
    }
   ],
   "source": [
    "re.match(r\".*\",sentence)"
   ]
  },
  {
   "cell_type": "code",
   "execution_count": 14,
   "id": "aed27600",
   "metadata": {},
   "outputs": [],
   "source": [
    "s = \" \""
   ]
  },
  {
   "cell_type": "code",
   "execution_count": 15,
   "id": "b8b4b1fd",
   "metadata": {},
   "outputs": [
    {
     "data": {
      "text/plain": [
       "' '"
      ]
     },
     "execution_count": 15,
     "metadata": {},
     "output_type": "execute_result"
    }
   ],
   "source": [
    "s"
   ]
  },
  {
   "cell_type": "code",
   "execution_count": 16,
   "id": "afb5099b",
   "metadata": {},
   "outputs": [
    {
     "data": {
      "text/plain": [
       "<re.Match object; span=(0, 1), match=' '>"
      ]
     },
     "execution_count": 16,
     "metadata": {},
     "output_type": "execute_result"
    }
   ],
   "source": [
    "re.match(r\".*\",s)"
   ]
  },
  {
   "cell_type": "code",
   "execution_count": 17,
   "id": "e9963b6a",
   "metadata": {},
   "outputs": [
    {
     "data": {
      "text/plain": [
       "<re.Match object; span=(0, 1), match=' '>"
      ]
     },
     "execution_count": 17,
     "metadata": {},
     "output_type": "execute_result"
    }
   ],
   "source": [
    "re.match(r\".+\",s)"
   ]
  },
  {
   "cell_type": "code",
   "execution_count": 18,
   "id": "e06220e9",
   "metadata": {},
   "outputs": [
    {
     "data": {
      "text/plain": [
       "'I am 25 years old born in 1996'"
      ]
     },
     "execution_count": 18,
     "metadata": {},
     "output_type": "execute_result"
    }
   ],
   "source": [
    "sentence"
   ]
  },
  {
   "cell_type": "code",
   "execution_count": 19,
   "id": "397d6249",
   "metadata": {},
   "outputs": [],
   "source": [
    "re.match(r\"\\W\",sentence)         #word charecter  no output"
   ]
  },
  {
   "cell_type": "code",
   "execution_count": 24,
   "id": "2ec16537",
   "metadata": {},
   "outputs": [],
   "source": [
    "sentence = '# I am 25 years old born in 1996'"
   ]
  },
  {
   "cell_type": "code",
   "execution_count": 25,
   "id": "3f9299f7",
   "metadata": {},
   "outputs": [
    {
     "data": {
      "text/plain": [
       "'# I am 25 years old born in 1996'"
      ]
     },
     "execution_count": 25,
     "metadata": {},
     "output_type": "execute_result"
    }
   ],
   "source": [
    "sentence"
   ]
  },
  {
   "cell_type": "code",
   "execution_count": 26,
   "id": "bd28969c",
   "metadata": {},
   "outputs": [
    {
     "data": {
      "text/plain": [
       "<re.Match object; span=(0, 1), match='#'>"
      ]
     },
     "execution_count": 26,
     "metadata": {},
     "output_type": "execute_result"
    }
   ],
   "source": [
    "re.match(r\"\\W\",sentence)"
   ]
  },
  {
   "cell_type": "code",
   "execution_count": 27,
   "id": "28b00c7d",
   "metadata": {},
   "outputs": [],
   "source": [
    "sentence ='I am 25 years old born in 1996'"
   ]
  },
  {
   "cell_type": "code",
   "execution_count": 28,
   "id": "a3fc7d72",
   "metadata": {},
   "outputs": [
    {
     "data": {
      "text/plain": [
       "'I am 25 years old born in 1996'"
      ]
     },
     "execution_count": 28,
     "metadata": {},
     "output_type": "execute_result"
    }
   ],
   "source": [
    "sentence"
   ]
  },
  {
   "cell_type": "code",
   "execution_count": 29,
   "id": "a83aa54a",
   "metadata": {},
   "outputs": [
    {
     "data": {
      "text/plain": [
       "<re.Match object; span=(0, 1), match='I'>"
      ]
     },
     "execution_count": 29,
     "metadata": {},
     "output_type": "execute_result"
    }
   ],
   "source": [
    "re.match(r\"[a-zA-Z]\",sentence)"
   ]
  },
  {
   "cell_type": "code",
   "execution_count": 31,
   "id": "1e94f7de",
   "metadata": {},
   "outputs": [],
   "source": [
    "re.match(r\"[a-z]\",sentence)  #no output"
   ]
  },
  {
   "cell_type": "code",
   "execution_count": 34,
   "id": "c44307bd",
   "metadata": {},
   "outputs": [],
   "source": [
    "re.match(r\"[0-9]\",sentence)  #no output"
   ]
  },
  {
   "cell_type": "code",
   "execution_count": 36,
   "id": "ef48192d",
   "metadata": {},
   "outputs": [
    {
     "data": {
      "text/plain": [
       "['I',\n",
       " '',\n",
       " 'am',\n",
       " '',\n",
       " '',\n",
       " '',\n",
       " '',\n",
       " 'years',\n",
       " '',\n",
       " 'old',\n",
       " '',\n",
       " 'born',\n",
       " '',\n",
       " 'in',\n",
       " '',\n",
       " '',\n",
       " '',\n",
       " '',\n",
       " '',\n",
       " '']"
      ]
     },
     "execution_count": 36,
     "metadata": {},
     "output_type": "execute_result"
    }
   ],
   "source": [
    "re.findall(r\"[a-zA-Z]*\",sentence)"
   ]
  },
  {
   "cell_type": "code",
   "execution_count": 39,
   "id": "8d8224f4",
   "metadata": {},
   "outputs": [
    {
     "data": {
      "text/plain": [
       "['I',\n",
       " '',\n",
       " '',\n",
       " '',\n",
       " '',\n",
       " '',\n",
       " '',\n",
       " '',\n",
       " '',\n",
       " '',\n",
       " '',\n",
       " '',\n",
       " '',\n",
       " '',\n",
       " '',\n",
       " '',\n",
       " '',\n",
       " '',\n",
       " '',\n",
       " '',\n",
       " '',\n",
       " '',\n",
       " '',\n",
       " '',\n",
       " '',\n",
       " '',\n",
       " '',\n",
       " '',\n",
       " '',\n",
       " '',\n",
       " '']"
      ]
     },
     "execution_count": 39,
     "metadata": {},
     "output_type": "execute_result"
    }
   ],
   "source": [
    "re.findall(r\"[A-Z]*\",sentence)"
   ]
  },
  {
   "cell_type": "code",
   "execution_count": 40,
   "id": "87970408",
   "metadata": {},
   "outputs": [
    {
     "data": {
      "text/plain": [
       "['',\n",
       " '',\n",
       " 'am',\n",
       " '',\n",
       " '',\n",
       " '',\n",
       " '',\n",
       " 'years',\n",
       " '',\n",
       " 'old',\n",
       " '',\n",
       " 'born',\n",
       " '',\n",
       " 'in',\n",
       " '',\n",
       " '',\n",
       " '',\n",
       " '',\n",
       " '',\n",
       " '']"
      ]
     },
     "execution_count": 40,
     "metadata": {},
     "output_type": "execute_result"
    }
   ],
   "source": [
    "re.findall(r\"[a-z]*\",sentence)"
   ]
  },
  {
   "cell_type": "code",
   "execution_count": 45,
   "id": "4b0ce325",
   "metadata": {},
   "outputs": [
    {
     "data": {
      "text/plain": [
       "['',\n",
       " '',\n",
       " '',\n",
       " '',\n",
       " '',\n",
       " '25',\n",
       " '',\n",
       " '',\n",
       " '',\n",
       " '',\n",
       " '',\n",
       " '',\n",
       " '',\n",
       " '',\n",
       " '',\n",
       " '',\n",
       " '',\n",
       " '',\n",
       " '',\n",
       " '',\n",
       " '',\n",
       " '',\n",
       " '',\n",
       " '',\n",
       " '',\n",
       " '1996',\n",
       " '']"
      ]
     },
     "execution_count": 45,
     "metadata": {},
     "output_type": "execute_result"
    }
   ],
   "source": [
    "re.findall(r\"[0-9]*\",sentence)"
   ]
  },
  {
   "cell_type": "code",
   "execution_count": 47,
   "id": "dca5645a",
   "metadata": {},
   "outputs": [
    {
     "data": {
      "text/plain": [
       "<re.Match object; span=(0, 1), match='I'>"
      ]
     },
     "execution_count": 47,
     "metadata": {},
     "output_type": "execute_result"
    }
   ],
   "source": [
    "re.search(r\"[a-zA-z]\",sentence)"
   ]
  },
  {
   "cell_type": "code",
   "execution_count": 48,
   "id": "fa6f8262",
   "metadata": {},
   "outputs": [
    {
     "data": {
      "text/plain": [
       "<re.Match object; span=(0, 1), match='I'>"
      ]
     },
     "execution_count": 48,
     "metadata": {},
     "output_type": "execute_result"
    }
   ],
   "source": [
    "re.search(r\"[a-zA-Z]+\",sentence)"
   ]
  },
  {
   "cell_type": "code",
   "execution_count": 49,
   "id": "dc5fe473",
   "metadata": {},
   "outputs": [],
   "source": [
    "sentence ='34 I am 25 years old born in 34 1996'"
   ]
  },
  {
   "cell_type": "code",
   "execution_count": 50,
   "id": "6869a3cc",
   "metadata": {},
   "outputs": [
    {
     "data": {
      "text/plain": [
       "'34 I am 25 years old born in 34 1996'"
      ]
     },
     "execution_count": 50,
     "metadata": {},
     "output_type": "execute_result"
    }
   ],
   "source": [
    "sentence"
   ]
  },
  {
   "cell_type": "code",
   "execution_count": 52,
   "id": "dfc38069",
   "metadata": {},
   "outputs": [
    {
     "data": {
      "text/plain": [
       "<re.Match object; span=(3, 4), match='I'>"
      ]
     },
     "execution_count": 52,
     "metadata": {},
     "output_type": "execute_result"
    }
   ],
   "source": [
    "re.search(r\"[a-zA-Z]\",sentence)"
   ]
  },
  {
   "cell_type": "code",
   "execution_count": 55,
   "id": "30875415",
   "metadata": {},
   "outputs": [],
   "source": [
    "re.match(r\"[a-zA-Z]+\",sentence)    #no  output"
   ]
  },
  {
   "cell_type": "code",
   "execution_count": 56,
   "id": "e5fc6422",
   "metadata": {},
   "outputs": [
    {
     "data": {
      "text/plain": [
       "<re.Match object; span=(0, 1), match='3'>"
      ]
     },
     "execution_count": 56,
     "metadata": {},
     "output_type": "execute_result"
    }
   ],
   "source": [
    "re.match(r'^3',sentence)"
   ]
  },
  {
   "cell_type": "code",
   "execution_count": 59,
   "id": "31df0f3f",
   "metadata": {},
   "outputs": [],
   "source": [
    "re.match(r\"^4\",sentence)         #no output"
   ]
  },
  {
   "cell_type": "code",
   "execution_count": 61,
   "id": "45c46210",
   "metadata": {},
   "outputs": [
    {
     "data": {
      "text/plain": [
       "<re.Match object; span=(32, 36), match='1996'>"
      ]
     },
     "execution_count": 61,
     "metadata": {},
     "output_type": "execute_result"
    }
   ],
   "source": [
    "re.search(r\"1996$\",sentence)"
   ]
  },
  {
   "cell_type": "code",
   "execution_count": 64,
   "id": "0b37405d",
   "metadata": {},
   "outputs": [
    {
     "data": {
      "text/plain": [
       "'34#I#am#25#years#old#born#in#34#1996'"
      ]
     },
     "execution_count": 64,
     "metadata": {},
     "output_type": "execute_result"
    }
   ],
   "source": [
    "re.sub(r\"\\s\",\"#\",sentence)"
   ]
  },
  {
   "cell_type": "code",
   "execution_count": 65,
   "id": "0b366bf5",
   "metadata": {},
   "outputs": [],
   "source": [
    "sentence = '35 I am 25 years old born in 1996'"
   ]
  },
  {
   "cell_type": "code",
   "execution_count": 66,
   "id": "977faf12",
   "metadata": {},
   "outputs": [
    {
     "data": {
      "text/plain": [
       "'35 I am 25 years old born in 1996'"
      ]
     },
     "execution_count": 66,
     "metadata": {},
     "output_type": "execute_result"
    }
   ],
   "source": [
    "sentence"
   ]
  },
  {
   "cell_type": "code",
   "execution_count": 68,
   "id": "03dba5b8",
   "metadata": {},
   "outputs": [
    {
     "data": {
      "text/plain": [
       "'35 I am 25 years old born in 1996'"
      ]
     },
     "execution_count": 68,
     "metadata": {},
     "output_type": "execute_result"
    }
   ],
   "source": [
    "re.sub(r\"^\\s$\",\"#\",sentence)"
   ]
  },
  {
   "cell_type": "code",
   "execution_count": null,
   "id": "7a4e2cd0",
   "metadata": {},
   "outputs": [],
   "source": []
  }
 ],
 "metadata": {
  "kernelspec": {
   "display_name": "Python 3 (ipykernel)",
   "language": "python",
   "name": "python3"
  },
  "language_info": {
   "codemirror_mode": {
    "name": "ipython",
    "version": 3
   },
   "file_extension": ".py",
   "mimetype": "text/x-python",
   "name": "python",
   "nbconvert_exporter": "python",
   "pygments_lexer": "ipython3",
   "version": "3.11.5"
  }
 },
 "nbformat": 4,
 "nbformat_minor": 5
}
